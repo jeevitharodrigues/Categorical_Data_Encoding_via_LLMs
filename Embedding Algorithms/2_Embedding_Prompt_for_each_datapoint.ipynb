{
  "nbformat": 4,
  "nbformat_minor": 0,
  "metadata": {
    "colab": {
      "provenance": []
    },
    "kernelspec": {
      "name": "python3",
      "display_name": "Python 3"
    },
    "language_info": {
      "name": "python"
    },
    "widgets": {
      "application/vnd.jupyter.widget-state+json": {
        "37c9f287fad647d7945d154aedcf39bf": {
          "model_module": "@jupyter-widgets/controls",
          "model_name": "HBoxModel",
          "model_module_version": "1.5.0",
          "state": {
            "_dom_classes": [],
            "_model_module": "@jupyter-widgets/controls",
            "_model_module_version": "1.5.0",
            "_model_name": "HBoxModel",
            "_view_count": null,
            "_view_module": "@jupyter-widgets/controls",
            "_view_module_version": "1.5.0",
            "_view_name": "HBoxView",
            "box_style": "",
            "children": [
              "IPY_MODEL_70f0b89151034b6c896be010854f94e0",
              "IPY_MODEL_ddfbf589df76427e991d99c8ea616d7c",
              "IPY_MODEL_bc98ee648d964a91b5915e9b5f882b6d"
            ],
            "layout": "IPY_MODEL_c71e4e185caa41a6b027d074803e5d3f"
          }
        },
        "70f0b89151034b6c896be010854f94e0": {
          "model_module": "@jupyter-widgets/controls",
          "model_name": "HTMLModel",
          "model_module_version": "1.5.0",
          "state": {
            "_dom_classes": [],
            "_model_module": "@jupyter-widgets/controls",
            "_model_module_version": "1.5.0",
            "_model_name": "HTMLModel",
            "_view_count": null,
            "_view_module": "@jupyter-widgets/controls",
            "_view_module_version": "1.5.0",
            "_view_name": "HTMLView",
            "description": "",
            "description_tooltip": null,
            "layout": "IPY_MODEL_689b5d33bfe34087b230292ce1daa198",
            "placeholder": "​",
            "style": "IPY_MODEL_56fbdcec79ec4707bfb16fc65ee0a418",
            "value": "config.json: 100%"
          }
        },
        "ddfbf589df76427e991d99c8ea616d7c": {
          "model_module": "@jupyter-widgets/controls",
          "model_name": "FloatProgressModel",
          "model_module_version": "1.5.0",
          "state": {
            "_dom_classes": [],
            "_model_module": "@jupyter-widgets/controls",
            "_model_module_version": "1.5.0",
            "_model_name": "FloatProgressModel",
            "_view_count": null,
            "_view_module": "@jupyter-widgets/controls",
            "_view_module_version": "1.5.0",
            "_view_name": "ProgressView",
            "bar_style": "success",
            "description": "",
            "description_tooltip": null,
            "layout": "IPY_MODEL_7a381e80e61249ad81ae2703c3ff6ade",
            "max": 665,
            "min": 0,
            "orientation": "horizontal",
            "style": "IPY_MODEL_dc96a746d5d247f484af55191697b39a",
            "value": 665
          }
        },
        "bc98ee648d964a91b5915e9b5f882b6d": {
          "model_module": "@jupyter-widgets/controls",
          "model_name": "HTMLModel",
          "model_module_version": "1.5.0",
          "state": {
            "_dom_classes": [],
            "_model_module": "@jupyter-widgets/controls",
            "_model_module_version": "1.5.0",
            "_model_name": "HTMLModel",
            "_view_count": null,
            "_view_module": "@jupyter-widgets/controls",
            "_view_module_version": "1.5.0",
            "_view_name": "HTMLView",
            "description": "",
            "description_tooltip": null,
            "layout": "IPY_MODEL_6ec0275adf9148859980157fae286834",
            "placeholder": "​",
            "style": "IPY_MODEL_3d713dd5664b441aa9f2c7af438bf429",
            "value": " 665/665 [00:00&lt;00:00, 26.0kB/s]"
          }
        },
        "c71e4e185caa41a6b027d074803e5d3f": {
          "model_module": "@jupyter-widgets/base",
          "model_name": "LayoutModel",
          "model_module_version": "1.2.0",
          "state": {
            "_model_module": "@jupyter-widgets/base",
            "_model_module_version": "1.2.0",
            "_model_name": "LayoutModel",
            "_view_count": null,
            "_view_module": "@jupyter-widgets/base",
            "_view_module_version": "1.2.0",
            "_view_name": "LayoutView",
            "align_content": null,
            "align_items": null,
            "align_self": null,
            "border": null,
            "bottom": null,
            "display": null,
            "flex": null,
            "flex_flow": null,
            "grid_area": null,
            "grid_auto_columns": null,
            "grid_auto_flow": null,
            "grid_auto_rows": null,
            "grid_column": null,
            "grid_gap": null,
            "grid_row": null,
            "grid_template_areas": null,
            "grid_template_columns": null,
            "grid_template_rows": null,
            "height": null,
            "justify_content": null,
            "justify_items": null,
            "left": null,
            "margin": null,
            "max_height": null,
            "max_width": null,
            "min_height": null,
            "min_width": null,
            "object_fit": null,
            "object_position": null,
            "order": null,
            "overflow": null,
            "overflow_x": null,
            "overflow_y": null,
            "padding": null,
            "right": null,
            "top": null,
            "visibility": null,
            "width": null
          }
        },
        "689b5d33bfe34087b230292ce1daa198": {
          "model_module": "@jupyter-widgets/base",
          "model_name": "LayoutModel",
          "model_module_version": "1.2.0",
          "state": {
            "_model_module": "@jupyter-widgets/base",
            "_model_module_version": "1.2.0",
            "_model_name": "LayoutModel",
            "_view_count": null,
            "_view_module": "@jupyter-widgets/base",
            "_view_module_version": "1.2.0",
            "_view_name": "LayoutView",
            "align_content": null,
            "align_items": null,
            "align_self": null,
            "border": null,
            "bottom": null,
            "display": null,
            "flex": null,
            "flex_flow": null,
            "grid_area": null,
            "grid_auto_columns": null,
            "grid_auto_flow": null,
            "grid_auto_rows": null,
            "grid_column": null,
            "grid_gap": null,
            "grid_row": null,
            "grid_template_areas": null,
            "grid_template_columns": null,
            "grid_template_rows": null,
            "height": null,
            "justify_content": null,
            "justify_items": null,
            "left": null,
            "margin": null,
            "max_height": null,
            "max_width": null,
            "min_height": null,
            "min_width": null,
            "object_fit": null,
            "object_position": null,
            "order": null,
            "overflow": null,
            "overflow_x": null,
            "overflow_y": null,
            "padding": null,
            "right": null,
            "top": null,
            "visibility": null,
            "width": null
          }
        },
        "56fbdcec79ec4707bfb16fc65ee0a418": {
          "model_module": "@jupyter-widgets/controls",
          "model_name": "DescriptionStyleModel",
          "model_module_version": "1.5.0",
          "state": {
            "_model_module": "@jupyter-widgets/controls",
            "_model_module_version": "1.5.0",
            "_model_name": "DescriptionStyleModel",
            "_view_count": null,
            "_view_module": "@jupyter-widgets/base",
            "_view_module_version": "1.2.0",
            "_view_name": "StyleView",
            "description_width": ""
          }
        },
        "7a381e80e61249ad81ae2703c3ff6ade": {
          "model_module": "@jupyter-widgets/base",
          "model_name": "LayoutModel",
          "model_module_version": "1.2.0",
          "state": {
            "_model_module": "@jupyter-widgets/base",
            "_model_module_version": "1.2.0",
            "_model_name": "LayoutModel",
            "_view_count": null,
            "_view_module": "@jupyter-widgets/base",
            "_view_module_version": "1.2.0",
            "_view_name": "LayoutView",
            "align_content": null,
            "align_items": null,
            "align_self": null,
            "border": null,
            "bottom": null,
            "display": null,
            "flex": null,
            "flex_flow": null,
            "grid_area": null,
            "grid_auto_columns": null,
            "grid_auto_flow": null,
            "grid_auto_rows": null,
            "grid_column": null,
            "grid_gap": null,
            "grid_row": null,
            "grid_template_areas": null,
            "grid_template_columns": null,
            "grid_template_rows": null,
            "height": null,
            "justify_content": null,
            "justify_items": null,
            "left": null,
            "margin": null,
            "max_height": null,
            "max_width": null,
            "min_height": null,
            "min_width": null,
            "object_fit": null,
            "object_position": null,
            "order": null,
            "overflow": null,
            "overflow_x": null,
            "overflow_y": null,
            "padding": null,
            "right": null,
            "top": null,
            "visibility": null,
            "width": null
          }
        },
        "dc96a746d5d247f484af55191697b39a": {
          "model_module": "@jupyter-widgets/controls",
          "model_name": "ProgressStyleModel",
          "model_module_version": "1.5.0",
          "state": {
            "_model_module": "@jupyter-widgets/controls",
            "_model_module_version": "1.5.0",
            "_model_name": "ProgressStyleModel",
            "_view_count": null,
            "_view_module": "@jupyter-widgets/base",
            "_view_module_version": "1.2.0",
            "_view_name": "StyleView",
            "bar_color": null,
            "description_width": ""
          }
        },
        "6ec0275adf9148859980157fae286834": {
          "model_module": "@jupyter-widgets/base",
          "model_name": "LayoutModel",
          "model_module_version": "1.2.0",
          "state": {
            "_model_module": "@jupyter-widgets/base",
            "_model_module_version": "1.2.0",
            "_model_name": "LayoutModel",
            "_view_count": null,
            "_view_module": "@jupyter-widgets/base",
            "_view_module_version": "1.2.0",
            "_view_name": "LayoutView",
            "align_content": null,
            "align_items": null,
            "align_self": null,
            "border": null,
            "bottom": null,
            "display": null,
            "flex": null,
            "flex_flow": null,
            "grid_area": null,
            "grid_auto_columns": null,
            "grid_auto_flow": null,
            "grid_auto_rows": null,
            "grid_column": null,
            "grid_gap": null,
            "grid_row": null,
            "grid_template_areas": null,
            "grid_template_columns": null,
            "grid_template_rows": null,
            "height": null,
            "justify_content": null,
            "justify_items": null,
            "left": null,
            "margin": null,
            "max_height": null,
            "max_width": null,
            "min_height": null,
            "min_width": null,
            "object_fit": null,
            "object_position": null,
            "order": null,
            "overflow": null,
            "overflow_x": null,
            "overflow_y": null,
            "padding": null,
            "right": null,
            "top": null,
            "visibility": null,
            "width": null
          }
        },
        "3d713dd5664b441aa9f2c7af438bf429": {
          "model_module": "@jupyter-widgets/controls",
          "model_name": "DescriptionStyleModel",
          "model_module_version": "1.5.0",
          "state": {
            "_model_module": "@jupyter-widgets/controls",
            "_model_module_version": "1.5.0",
            "_model_name": "DescriptionStyleModel",
            "_view_count": null,
            "_view_module": "@jupyter-widgets/base",
            "_view_module_version": "1.2.0",
            "_view_name": "StyleView",
            "description_width": ""
          }
        },
        "6431119e44484945b8fab56c400198af": {
          "model_module": "@jupyter-widgets/controls",
          "model_name": "HBoxModel",
          "model_module_version": "1.5.0",
          "state": {
            "_dom_classes": [],
            "_model_module": "@jupyter-widgets/controls",
            "_model_module_version": "1.5.0",
            "_model_name": "HBoxModel",
            "_view_count": null,
            "_view_module": "@jupyter-widgets/controls",
            "_view_module_version": "1.5.0",
            "_view_name": "HBoxView",
            "box_style": "",
            "children": [
              "IPY_MODEL_884e02a00069456883b25dd9ab65cd3d",
              "IPY_MODEL_1b109560ae254a878631022a5a8f3407",
              "IPY_MODEL_e4c575e4f9a14a3083b49a30dbe91157"
            ],
            "layout": "IPY_MODEL_0c0c07e67c744b0bba2a43f322115d08"
          }
        },
        "884e02a00069456883b25dd9ab65cd3d": {
          "model_module": "@jupyter-widgets/controls",
          "model_name": "HTMLModel",
          "model_module_version": "1.5.0",
          "state": {
            "_dom_classes": [],
            "_model_module": "@jupyter-widgets/controls",
            "_model_module_version": "1.5.0",
            "_model_name": "HTMLModel",
            "_view_count": null,
            "_view_module": "@jupyter-widgets/controls",
            "_view_module_version": "1.5.0",
            "_view_name": "HTMLView",
            "description": "",
            "description_tooltip": null,
            "layout": "IPY_MODEL_25fec5d311fb4a7bb9e31f73ac8beebe",
            "placeholder": "​",
            "style": "IPY_MODEL_39ff63f512a048da9ef9087dec7dd965",
            "value": "model.safetensors: 100%"
          }
        },
        "1b109560ae254a878631022a5a8f3407": {
          "model_module": "@jupyter-widgets/controls",
          "model_name": "FloatProgressModel",
          "model_module_version": "1.5.0",
          "state": {
            "_dom_classes": [],
            "_model_module": "@jupyter-widgets/controls",
            "_model_module_version": "1.5.0",
            "_model_name": "FloatProgressModel",
            "_view_count": null,
            "_view_module": "@jupyter-widgets/controls",
            "_view_module_version": "1.5.0",
            "_view_name": "ProgressView",
            "bar_style": "success",
            "description": "",
            "description_tooltip": null,
            "layout": "IPY_MODEL_d1fa22ed94aa4a1baa66827fa8dc0fbe",
            "max": 548105171,
            "min": 0,
            "orientation": "horizontal",
            "style": "IPY_MODEL_e379451638024602832139a51c3ab3fe",
            "value": 548105171
          }
        },
        "e4c575e4f9a14a3083b49a30dbe91157": {
          "model_module": "@jupyter-widgets/controls",
          "model_name": "HTMLModel",
          "model_module_version": "1.5.0",
          "state": {
            "_dom_classes": [],
            "_model_module": "@jupyter-widgets/controls",
            "_model_module_version": "1.5.0",
            "_model_name": "HTMLModel",
            "_view_count": null,
            "_view_module": "@jupyter-widgets/controls",
            "_view_module_version": "1.5.0",
            "_view_name": "HTMLView",
            "description": "",
            "description_tooltip": null,
            "layout": "IPY_MODEL_7188bfdb61374e619b3c7326b4ded5f5",
            "placeholder": "​",
            "style": "IPY_MODEL_650454c018314a27890a7ee903fc234c",
            "value": " 548M/548M [00:02&lt;00:00, 214MB/s]"
          }
        },
        "0c0c07e67c744b0bba2a43f322115d08": {
          "model_module": "@jupyter-widgets/base",
          "model_name": "LayoutModel",
          "model_module_version": "1.2.0",
          "state": {
            "_model_module": "@jupyter-widgets/base",
            "_model_module_version": "1.2.0",
            "_model_name": "LayoutModel",
            "_view_count": null,
            "_view_module": "@jupyter-widgets/base",
            "_view_module_version": "1.2.0",
            "_view_name": "LayoutView",
            "align_content": null,
            "align_items": null,
            "align_self": null,
            "border": null,
            "bottom": null,
            "display": null,
            "flex": null,
            "flex_flow": null,
            "grid_area": null,
            "grid_auto_columns": null,
            "grid_auto_flow": null,
            "grid_auto_rows": null,
            "grid_column": null,
            "grid_gap": null,
            "grid_row": null,
            "grid_template_areas": null,
            "grid_template_columns": null,
            "grid_template_rows": null,
            "height": null,
            "justify_content": null,
            "justify_items": null,
            "left": null,
            "margin": null,
            "max_height": null,
            "max_width": null,
            "min_height": null,
            "min_width": null,
            "object_fit": null,
            "object_position": null,
            "order": null,
            "overflow": null,
            "overflow_x": null,
            "overflow_y": null,
            "padding": null,
            "right": null,
            "top": null,
            "visibility": null,
            "width": null
          }
        },
        "25fec5d311fb4a7bb9e31f73ac8beebe": {
          "model_module": "@jupyter-widgets/base",
          "model_name": "LayoutModel",
          "model_module_version": "1.2.0",
          "state": {
            "_model_module": "@jupyter-widgets/base",
            "_model_module_version": "1.2.0",
            "_model_name": "LayoutModel",
            "_view_count": null,
            "_view_module": "@jupyter-widgets/base",
            "_view_module_version": "1.2.0",
            "_view_name": "LayoutView",
            "align_content": null,
            "align_items": null,
            "align_self": null,
            "border": null,
            "bottom": null,
            "display": null,
            "flex": null,
            "flex_flow": null,
            "grid_area": null,
            "grid_auto_columns": null,
            "grid_auto_flow": null,
            "grid_auto_rows": null,
            "grid_column": null,
            "grid_gap": null,
            "grid_row": null,
            "grid_template_areas": null,
            "grid_template_columns": null,
            "grid_template_rows": null,
            "height": null,
            "justify_content": null,
            "justify_items": null,
            "left": null,
            "margin": null,
            "max_height": null,
            "max_width": null,
            "min_height": null,
            "min_width": null,
            "object_fit": null,
            "object_position": null,
            "order": null,
            "overflow": null,
            "overflow_x": null,
            "overflow_y": null,
            "padding": null,
            "right": null,
            "top": null,
            "visibility": null,
            "width": null
          }
        },
        "39ff63f512a048da9ef9087dec7dd965": {
          "model_module": "@jupyter-widgets/controls",
          "model_name": "DescriptionStyleModel",
          "model_module_version": "1.5.0",
          "state": {
            "_model_module": "@jupyter-widgets/controls",
            "_model_module_version": "1.5.0",
            "_model_name": "DescriptionStyleModel",
            "_view_count": null,
            "_view_module": "@jupyter-widgets/base",
            "_view_module_version": "1.2.0",
            "_view_name": "StyleView",
            "description_width": ""
          }
        },
        "d1fa22ed94aa4a1baa66827fa8dc0fbe": {
          "model_module": "@jupyter-widgets/base",
          "model_name": "LayoutModel",
          "model_module_version": "1.2.0",
          "state": {
            "_model_module": "@jupyter-widgets/base",
            "_model_module_version": "1.2.0",
            "_model_name": "LayoutModel",
            "_view_count": null,
            "_view_module": "@jupyter-widgets/base",
            "_view_module_version": "1.2.0",
            "_view_name": "LayoutView",
            "align_content": null,
            "align_items": null,
            "align_self": null,
            "border": null,
            "bottom": null,
            "display": null,
            "flex": null,
            "flex_flow": null,
            "grid_area": null,
            "grid_auto_columns": null,
            "grid_auto_flow": null,
            "grid_auto_rows": null,
            "grid_column": null,
            "grid_gap": null,
            "grid_row": null,
            "grid_template_areas": null,
            "grid_template_columns": null,
            "grid_template_rows": null,
            "height": null,
            "justify_content": null,
            "justify_items": null,
            "left": null,
            "margin": null,
            "max_height": null,
            "max_width": null,
            "min_height": null,
            "min_width": null,
            "object_fit": null,
            "object_position": null,
            "order": null,
            "overflow": null,
            "overflow_x": null,
            "overflow_y": null,
            "padding": null,
            "right": null,
            "top": null,
            "visibility": null,
            "width": null
          }
        },
        "e379451638024602832139a51c3ab3fe": {
          "model_module": "@jupyter-widgets/controls",
          "model_name": "ProgressStyleModel",
          "model_module_version": "1.5.0",
          "state": {
            "_model_module": "@jupyter-widgets/controls",
            "_model_module_version": "1.5.0",
            "_model_name": "ProgressStyleModel",
            "_view_count": null,
            "_view_module": "@jupyter-widgets/base",
            "_view_module_version": "1.2.0",
            "_view_name": "StyleView",
            "bar_color": null,
            "description_width": ""
          }
        },
        "7188bfdb61374e619b3c7326b4ded5f5": {
          "model_module": "@jupyter-widgets/base",
          "model_name": "LayoutModel",
          "model_module_version": "1.2.0",
          "state": {
            "_model_module": "@jupyter-widgets/base",
            "_model_module_version": "1.2.0",
            "_model_name": "LayoutModel",
            "_view_count": null,
            "_view_module": "@jupyter-widgets/base",
            "_view_module_version": "1.2.0",
            "_view_name": "LayoutView",
            "align_content": null,
            "align_items": null,
            "align_self": null,
            "border": null,
            "bottom": null,
            "display": null,
            "flex": null,
            "flex_flow": null,
            "grid_area": null,
            "grid_auto_columns": null,
            "grid_auto_flow": null,
            "grid_auto_rows": null,
            "grid_column": null,
            "grid_gap": null,
            "grid_row": null,
            "grid_template_areas": null,
            "grid_template_columns": null,
            "grid_template_rows": null,
            "height": null,
            "justify_content": null,
            "justify_items": null,
            "left": null,
            "margin": null,
            "max_height": null,
            "max_width": null,
            "min_height": null,
            "min_width": null,
            "object_fit": null,
            "object_position": null,
            "order": null,
            "overflow": null,
            "overflow_x": null,
            "overflow_y": null,
            "padding": null,
            "right": null,
            "top": null,
            "visibility": null,
            "width": null
          }
        },
        "650454c018314a27890a7ee903fc234c": {
          "model_module": "@jupyter-widgets/controls",
          "model_name": "DescriptionStyleModel",
          "model_module_version": "1.5.0",
          "state": {
            "_model_module": "@jupyter-widgets/controls",
            "_model_module_version": "1.5.0",
            "_model_name": "DescriptionStyleModel",
            "_view_count": null,
            "_view_module": "@jupyter-widgets/base",
            "_view_module_version": "1.2.0",
            "_view_name": "StyleView",
            "description_width": ""
          }
        },
        "b70ac56c06104653ae898f0976915ec4": {
          "model_module": "@jupyter-widgets/controls",
          "model_name": "HBoxModel",
          "model_module_version": "1.5.0",
          "state": {
            "_dom_classes": [],
            "_model_module": "@jupyter-widgets/controls",
            "_model_module_version": "1.5.0",
            "_model_name": "HBoxModel",
            "_view_count": null,
            "_view_module": "@jupyter-widgets/controls",
            "_view_module_version": "1.5.0",
            "_view_name": "HBoxView",
            "box_style": "",
            "children": [
              "IPY_MODEL_ef0ae4d602fa474cb8d79ac6e312b582",
              "IPY_MODEL_dddb2fde53ff4aa395b0ee4578d9d60d",
              "IPY_MODEL_8389513be14e43f597cb716bc17ded1a"
            ],
            "layout": "IPY_MODEL_e7b872ba3df34bb58a6a60de731eb504"
          }
        },
        "ef0ae4d602fa474cb8d79ac6e312b582": {
          "model_module": "@jupyter-widgets/controls",
          "model_name": "HTMLModel",
          "model_module_version": "1.5.0",
          "state": {
            "_dom_classes": [],
            "_model_module": "@jupyter-widgets/controls",
            "_model_module_version": "1.5.0",
            "_model_name": "HTMLModel",
            "_view_count": null,
            "_view_module": "@jupyter-widgets/controls",
            "_view_module_version": "1.5.0",
            "_view_name": "HTMLView",
            "description": "",
            "description_tooltip": null,
            "layout": "IPY_MODEL_8f75ae45c68b41a2baaccbf8e58672b8",
            "placeholder": "​",
            "style": "IPY_MODEL_060b46c48da244359ef826ccd4bf91d6",
            "value": "generation_config.json: 100%"
          }
        },
        "dddb2fde53ff4aa395b0ee4578d9d60d": {
          "model_module": "@jupyter-widgets/controls",
          "model_name": "FloatProgressModel",
          "model_module_version": "1.5.0",
          "state": {
            "_dom_classes": [],
            "_model_module": "@jupyter-widgets/controls",
            "_model_module_version": "1.5.0",
            "_model_name": "FloatProgressModel",
            "_view_count": null,
            "_view_module": "@jupyter-widgets/controls",
            "_view_module_version": "1.5.0",
            "_view_name": "ProgressView",
            "bar_style": "success",
            "description": "",
            "description_tooltip": null,
            "layout": "IPY_MODEL_c00b7b245656469b9f146ba254d1d010",
            "max": 124,
            "min": 0,
            "orientation": "horizontal",
            "style": "IPY_MODEL_20c60e075cde43fbbd0f061619f4c5ad",
            "value": 124
          }
        },
        "8389513be14e43f597cb716bc17ded1a": {
          "model_module": "@jupyter-widgets/controls",
          "model_name": "HTMLModel",
          "model_module_version": "1.5.0",
          "state": {
            "_dom_classes": [],
            "_model_module": "@jupyter-widgets/controls",
            "_model_module_version": "1.5.0",
            "_model_name": "HTMLModel",
            "_view_count": null,
            "_view_module": "@jupyter-widgets/controls",
            "_view_module_version": "1.5.0",
            "_view_name": "HTMLView",
            "description": "",
            "description_tooltip": null,
            "layout": "IPY_MODEL_89c8bc2d295d4884a5c43c6e283a774a",
            "placeholder": "​",
            "style": "IPY_MODEL_05066a1952e24ac0a80899a3a70bb605",
            "value": " 124/124 [00:00&lt;00:00, 5.66kB/s]"
          }
        },
        "e7b872ba3df34bb58a6a60de731eb504": {
          "model_module": "@jupyter-widgets/base",
          "model_name": "LayoutModel",
          "model_module_version": "1.2.0",
          "state": {
            "_model_module": "@jupyter-widgets/base",
            "_model_module_version": "1.2.0",
            "_model_name": "LayoutModel",
            "_view_count": null,
            "_view_module": "@jupyter-widgets/base",
            "_view_module_version": "1.2.0",
            "_view_name": "LayoutView",
            "align_content": null,
            "align_items": null,
            "align_self": null,
            "border": null,
            "bottom": null,
            "display": null,
            "flex": null,
            "flex_flow": null,
            "grid_area": null,
            "grid_auto_columns": null,
            "grid_auto_flow": null,
            "grid_auto_rows": null,
            "grid_column": null,
            "grid_gap": null,
            "grid_row": null,
            "grid_template_areas": null,
            "grid_template_columns": null,
            "grid_template_rows": null,
            "height": null,
            "justify_content": null,
            "justify_items": null,
            "left": null,
            "margin": null,
            "max_height": null,
            "max_width": null,
            "min_height": null,
            "min_width": null,
            "object_fit": null,
            "object_position": null,
            "order": null,
            "overflow": null,
            "overflow_x": null,
            "overflow_y": null,
            "padding": null,
            "right": null,
            "top": null,
            "visibility": null,
            "width": null
          }
        },
        "8f75ae45c68b41a2baaccbf8e58672b8": {
          "model_module": "@jupyter-widgets/base",
          "model_name": "LayoutModel",
          "model_module_version": "1.2.0",
          "state": {
            "_model_module": "@jupyter-widgets/base",
            "_model_module_version": "1.2.0",
            "_model_name": "LayoutModel",
            "_view_count": null,
            "_view_module": "@jupyter-widgets/base",
            "_view_module_version": "1.2.0",
            "_view_name": "LayoutView",
            "align_content": null,
            "align_items": null,
            "align_self": null,
            "border": null,
            "bottom": null,
            "display": null,
            "flex": null,
            "flex_flow": null,
            "grid_area": null,
            "grid_auto_columns": null,
            "grid_auto_flow": null,
            "grid_auto_rows": null,
            "grid_column": null,
            "grid_gap": null,
            "grid_row": null,
            "grid_template_areas": null,
            "grid_template_columns": null,
            "grid_template_rows": null,
            "height": null,
            "justify_content": null,
            "justify_items": null,
            "left": null,
            "margin": null,
            "max_height": null,
            "max_width": null,
            "min_height": null,
            "min_width": null,
            "object_fit": null,
            "object_position": null,
            "order": null,
            "overflow": null,
            "overflow_x": null,
            "overflow_y": null,
            "padding": null,
            "right": null,
            "top": null,
            "visibility": null,
            "width": null
          }
        },
        "060b46c48da244359ef826ccd4bf91d6": {
          "model_module": "@jupyter-widgets/controls",
          "model_name": "DescriptionStyleModel",
          "model_module_version": "1.5.0",
          "state": {
            "_model_module": "@jupyter-widgets/controls",
            "_model_module_version": "1.5.0",
            "_model_name": "DescriptionStyleModel",
            "_view_count": null,
            "_view_module": "@jupyter-widgets/base",
            "_view_module_version": "1.2.0",
            "_view_name": "StyleView",
            "description_width": ""
          }
        },
        "c00b7b245656469b9f146ba254d1d010": {
          "model_module": "@jupyter-widgets/base",
          "model_name": "LayoutModel",
          "model_module_version": "1.2.0",
          "state": {
            "_model_module": "@jupyter-widgets/base",
            "_model_module_version": "1.2.0",
            "_model_name": "LayoutModel",
            "_view_count": null,
            "_view_module": "@jupyter-widgets/base",
            "_view_module_version": "1.2.0",
            "_view_name": "LayoutView",
            "align_content": null,
            "align_items": null,
            "align_self": null,
            "border": null,
            "bottom": null,
            "display": null,
            "flex": null,
            "flex_flow": null,
            "grid_area": null,
            "grid_auto_columns": null,
            "grid_auto_flow": null,
            "grid_auto_rows": null,
            "grid_column": null,
            "grid_gap": null,
            "grid_row": null,
            "grid_template_areas": null,
            "grid_template_columns": null,
            "grid_template_rows": null,
            "height": null,
            "justify_content": null,
            "justify_items": null,
            "left": null,
            "margin": null,
            "max_height": null,
            "max_width": null,
            "min_height": null,
            "min_width": null,
            "object_fit": null,
            "object_position": null,
            "order": null,
            "overflow": null,
            "overflow_x": null,
            "overflow_y": null,
            "padding": null,
            "right": null,
            "top": null,
            "visibility": null,
            "width": null
          }
        },
        "20c60e075cde43fbbd0f061619f4c5ad": {
          "model_module": "@jupyter-widgets/controls",
          "model_name": "ProgressStyleModel",
          "model_module_version": "1.5.0",
          "state": {
            "_model_module": "@jupyter-widgets/controls",
            "_model_module_version": "1.5.0",
            "_model_name": "ProgressStyleModel",
            "_view_count": null,
            "_view_module": "@jupyter-widgets/base",
            "_view_module_version": "1.2.0",
            "_view_name": "StyleView",
            "bar_color": null,
            "description_width": ""
          }
        },
        "89c8bc2d295d4884a5c43c6e283a774a": {
          "model_module": "@jupyter-widgets/base",
          "model_name": "LayoutModel",
          "model_module_version": "1.2.0",
          "state": {
            "_model_module": "@jupyter-widgets/base",
            "_model_module_version": "1.2.0",
            "_model_name": "LayoutModel",
            "_view_count": null,
            "_view_module": "@jupyter-widgets/base",
            "_view_module_version": "1.2.0",
            "_view_name": "LayoutView",
            "align_content": null,
            "align_items": null,
            "align_self": null,
            "border": null,
            "bottom": null,
            "display": null,
            "flex": null,
            "flex_flow": null,
            "grid_area": null,
            "grid_auto_columns": null,
            "grid_auto_flow": null,
            "grid_auto_rows": null,
            "grid_column": null,
            "grid_gap": null,
            "grid_row": null,
            "grid_template_areas": null,
            "grid_template_columns": null,
            "grid_template_rows": null,
            "height": null,
            "justify_content": null,
            "justify_items": null,
            "left": null,
            "margin": null,
            "max_height": null,
            "max_width": null,
            "min_height": null,
            "min_width": null,
            "object_fit": null,
            "object_position": null,
            "order": null,
            "overflow": null,
            "overflow_x": null,
            "overflow_y": null,
            "padding": null,
            "right": null,
            "top": null,
            "visibility": null,
            "width": null
          }
        },
        "05066a1952e24ac0a80899a3a70bb605": {
          "model_module": "@jupyter-widgets/controls",
          "model_name": "DescriptionStyleModel",
          "model_module_version": "1.5.0",
          "state": {
            "_model_module": "@jupyter-widgets/controls",
            "_model_module_version": "1.5.0",
            "_model_name": "DescriptionStyleModel",
            "_view_count": null,
            "_view_module": "@jupyter-widgets/base",
            "_view_module_version": "1.2.0",
            "_view_name": "StyleView",
            "description_width": ""
          }
        },
        "0e1b1b39f18f4a2896df2e4b2d823d90": {
          "model_module": "@jupyter-widgets/controls",
          "model_name": "HBoxModel",
          "model_module_version": "1.5.0",
          "state": {
            "_dom_classes": [],
            "_model_module": "@jupyter-widgets/controls",
            "_model_module_version": "1.5.0",
            "_model_name": "HBoxModel",
            "_view_count": null,
            "_view_module": "@jupyter-widgets/controls",
            "_view_module_version": "1.5.0",
            "_view_name": "HBoxView",
            "box_style": "",
            "children": [
              "IPY_MODEL_2ebc7216b8fd4328b43a90516092fcc7",
              "IPY_MODEL_8108780c28d2491d951d50d6dcabbc75",
              "IPY_MODEL_36a48e9c55af482eb8f218bc1431aecf"
            ],
            "layout": "IPY_MODEL_c230ae0aa398485a859e02cc3a9fe0c1"
          }
        },
        "2ebc7216b8fd4328b43a90516092fcc7": {
          "model_module": "@jupyter-widgets/controls",
          "model_name": "HTMLModel",
          "model_module_version": "1.5.0",
          "state": {
            "_dom_classes": [],
            "_model_module": "@jupyter-widgets/controls",
            "_model_module_version": "1.5.0",
            "_model_name": "HTMLModel",
            "_view_count": null,
            "_view_module": "@jupyter-widgets/controls",
            "_view_module_version": "1.5.0",
            "_view_name": "HTMLView",
            "description": "",
            "description_tooltip": null,
            "layout": "IPY_MODEL_91875d7d84af41b1a0232c418e09363a",
            "placeholder": "​",
            "style": "IPY_MODEL_1dd1c12f4cda49208695e18456ab3e2e",
            "value": "tokenizer_config.json: 100%"
          }
        },
        "8108780c28d2491d951d50d6dcabbc75": {
          "model_module": "@jupyter-widgets/controls",
          "model_name": "FloatProgressModel",
          "model_module_version": "1.5.0",
          "state": {
            "_dom_classes": [],
            "_model_module": "@jupyter-widgets/controls",
            "_model_module_version": "1.5.0",
            "_model_name": "FloatProgressModel",
            "_view_count": null,
            "_view_module": "@jupyter-widgets/controls",
            "_view_module_version": "1.5.0",
            "_view_name": "ProgressView",
            "bar_style": "success",
            "description": "",
            "description_tooltip": null,
            "layout": "IPY_MODEL_be7c514d13864d399a3a2fbbfddef22d",
            "max": 26,
            "min": 0,
            "orientation": "horizontal",
            "style": "IPY_MODEL_54a82cbefc9f446c814642e9483a3592",
            "value": 26
          }
        },
        "36a48e9c55af482eb8f218bc1431aecf": {
          "model_module": "@jupyter-widgets/controls",
          "model_name": "HTMLModel",
          "model_module_version": "1.5.0",
          "state": {
            "_dom_classes": [],
            "_model_module": "@jupyter-widgets/controls",
            "_model_module_version": "1.5.0",
            "_model_name": "HTMLModel",
            "_view_count": null,
            "_view_module": "@jupyter-widgets/controls",
            "_view_module_version": "1.5.0",
            "_view_name": "HTMLView",
            "description": "",
            "description_tooltip": null,
            "layout": "IPY_MODEL_95186413fb3243b2827170cb6ed1eac4",
            "placeholder": "​",
            "style": "IPY_MODEL_7f20e9b0ffd1435eb612676a8299e29a",
            "value": " 26.0/26.0 [00:00&lt;00:00, 1.27kB/s]"
          }
        },
        "c230ae0aa398485a859e02cc3a9fe0c1": {
          "model_module": "@jupyter-widgets/base",
          "model_name": "LayoutModel",
          "model_module_version": "1.2.0",
          "state": {
            "_model_module": "@jupyter-widgets/base",
            "_model_module_version": "1.2.0",
            "_model_name": "LayoutModel",
            "_view_count": null,
            "_view_module": "@jupyter-widgets/base",
            "_view_module_version": "1.2.0",
            "_view_name": "LayoutView",
            "align_content": null,
            "align_items": null,
            "align_self": null,
            "border": null,
            "bottom": null,
            "display": null,
            "flex": null,
            "flex_flow": null,
            "grid_area": null,
            "grid_auto_columns": null,
            "grid_auto_flow": null,
            "grid_auto_rows": null,
            "grid_column": null,
            "grid_gap": null,
            "grid_row": null,
            "grid_template_areas": null,
            "grid_template_columns": null,
            "grid_template_rows": null,
            "height": null,
            "justify_content": null,
            "justify_items": null,
            "left": null,
            "margin": null,
            "max_height": null,
            "max_width": null,
            "min_height": null,
            "min_width": null,
            "object_fit": null,
            "object_position": null,
            "order": null,
            "overflow": null,
            "overflow_x": null,
            "overflow_y": null,
            "padding": null,
            "right": null,
            "top": null,
            "visibility": null,
            "width": null
          }
        },
        "91875d7d84af41b1a0232c418e09363a": {
          "model_module": "@jupyter-widgets/base",
          "model_name": "LayoutModel",
          "model_module_version": "1.2.0",
          "state": {
            "_model_module": "@jupyter-widgets/base",
            "_model_module_version": "1.2.0",
            "_model_name": "LayoutModel",
            "_view_count": null,
            "_view_module": "@jupyter-widgets/base",
            "_view_module_version": "1.2.0",
            "_view_name": "LayoutView",
            "align_content": null,
            "align_items": null,
            "align_self": null,
            "border": null,
            "bottom": null,
            "display": null,
            "flex": null,
            "flex_flow": null,
            "grid_area": null,
            "grid_auto_columns": null,
            "grid_auto_flow": null,
            "grid_auto_rows": null,
            "grid_column": null,
            "grid_gap": null,
            "grid_row": null,
            "grid_template_areas": null,
            "grid_template_columns": null,
            "grid_template_rows": null,
            "height": null,
            "justify_content": null,
            "justify_items": null,
            "left": null,
            "margin": null,
            "max_height": null,
            "max_width": null,
            "min_height": null,
            "min_width": null,
            "object_fit": null,
            "object_position": null,
            "order": null,
            "overflow": null,
            "overflow_x": null,
            "overflow_y": null,
            "padding": null,
            "right": null,
            "top": null,
            "visibility": null,
            "width": null
          }
        },
        "1dd1c12f4cda49208695e18456ab3e2e": {
          "model_module": "@jupyter-widgets/controls",
          "model_name": "DescriptionStyleModel",
          "model_module_version": "1.5.0",
          "state": {
            "_model_module": "@jupyter-widgets/controls",
            "_model_module_version": "1.5.0",
            "_model_name": "DescriptionStyleModel",
            "_view_count": null,
            "_view_module": "@jupyter-widgets/base",
            "_view_module_version": "1.2.0",
            "_view_name": "StyleView",
            "description_width": ""
          }
        },
        "be7c514d13864d399a3a2fbbfddef22d": {
          "model_module": "@jupyter-widgets/base",
          "model_name": "LayoutModel",
          "model_module_version": "1.2.0",
          "state": {
            "_model_module": "@jupyter-widgets/base",
            "_model_module_version": "1.2.0",
            "_model_name": "LayoutModel",
            "_view_count": null,
            "_view_module": "@jupyter-widgets/base",
            "_view_module_version": "1.2.0",
            "_view_name": "LayoutView",
            "align_content": null,
            "align_items": null,
            "align_self": null,
            "border": null,
            "bottom": null,
            "display": null,
            "flex": null,
            "flex_flow": null,
            "grid_area": null,
            "grid_auto_columns": null,
            "grid_auto_flow": null,
            "grid_auto_rows": null,
            "grid_column": null,
            "grid_gap": null,
            "grid_row": null,
            "grid_template_areas": null,
            "grid_template_columns": null,
            "grid_template_rows": null,
            "height": null,
            "justify_content": null,
            "justify_items": null,
            "left": null,
            "margin": null,
            "max_height": null,
            "max_width": null,
            "min_height": null,
            "min_width": null,
            "object_fit": null,
            "object_position": null,
            "order": null,
            "overflow": null,
            "overflow_x": null,
            "overflow_y": null,
            "padding": null,
            "right": null,
            "top": null,
            "visibility": null,
            "width": null
          }
        },
        "54a82cbefc9f446c814642e9483a3592": {
          "model_module": "@jupyter-widgets/controls",
          "model_name": "ProgressStyleModel",
          "model_module_version": "1.5.0",
          "state": {
            "_model_module": "@jupyter-widgets/controls",
            "_model_module_version": "1.5.0",
            "_model_name": "ProgressStyleModel",
            "_view_count": null,
            "_view_module": "@jupyter-widgets/base",
            "_view_module_version": "1.2.0",
            "_view_name": "StyleView",
            "bar_color": null,
            "description_width": ""
          }
        },
        "95186413fb3243b2827170cb6ed1eac4": {
          "model_module": "@jupyter-widgets/base",
          "model_name": "LayoutModel",
          "model_module_version": "1.2.0",
          "state": {
            "_model_module": "@jupyter-widgets/base",
            "_model_module_version": "1.2.0",
            "_model_name": "LayoutModel",
            "_view_count": null,
            "_view_module": "@jupyter-widgets/base",
            "_view_module_version": "1.2.0",
            "_view_name": "LayoutView",
            "align_content": null,
            "align_items": null,
            "align_self": null,
            "border": null,
            "bottom": null,
            "display": null,
            "flex": null,
            "flex_flow": null,
            "grid_area": null,
            "grid_auto_columns": null,
            "grid_auto_flow": null,
            "grid_auto_rows": null,
            "grid_column": null,
            "grid_gap": null,
            "grid_row": null,
            "grid_template_areas": null,
            "grid_template_columns": null,
            "grid_template_rows": null,
            "height": null,
            "justify_content": null,
            "justify_items": null,
            "left": null,
            "margin": null,
            "max_height": null,
            "max_width": null,
            "min_height": null,
            "min_width": null,
            "object_fit": null,
            "object_position": null,
            "order": null,
            "overflow": null,
            "overflow_x": null,
            "overflow_y": null,
            "padding": null,
            "right": null,
            "top": null,
            "visibility": null,
            "width": null
          }
        },
        "7f20e9b0ffd1435eb612676a8299e29a": {
          "model_module": "@jupyter-widgets/controls",
          "model_name": "DescriptionStyleModel",
          "model_module_version": "1.5.0",
          "state": {
            "_model_module": "@jupyter-widgets/controls",
            "_model_module_version": "1.5.0",
            "_model_name": "DescriptionStyleModel",
            "_view_count": null,
            "_view_module": "@jupyter-widgets/base",
            "_view_module_version": "1.2.0",
            "_view_name": "StyleView",
            "description_width": ""
          }
        },
        "42220a7558724c7ea903d22ab1565441": {
          "model_module": "@jupyter-widgets/controls",
          "model_name": "HBoxModel",
          "model_module_version": "1.5.0",
          "state": {
            "_dom_classes": [],
            "_model_module": "@jupyter-widgets/controls",
            "_model_module_version": "1.5.0",
            "_model_name": "HBoxModel",
            "_view_count": null,
            "_view_module": "@jupyter-widgets/controls",
            "_view_module_version": "1.5.0",
            "_view_name": "HBoxView",
            "box_style": "",
            "children": [
              "IPY_MODEL_8493c80c0c7c45b3a6aefc41f9845aa1",
              "IPY_MODEL_ac4011d0c0394695a7583dfbe4c8ecb9",
              "IPY_MODEL_74a2f770e0f34cc187a37a107b50bb61"
            ],
            "layout": "IPY_MODEL_c35276c925ad48eeb88cd0fddf5cc6bf"
          }
        },
        "8493c80c0c7c45b3a6aefc41f9845aa1": {
          "model_module": "@jupyter-widgets/controls",
          "model_name": "HTMLModel",
          "model_module_version": "1.5.0",
          "state": {
            "_dom_classes": [],
            "_model_module": "@jupyter-widgets/controls",
            "_model_module_version": "1.5.0",
            "_model_name": "HTMLModel",
            "_view_count": null,
            "_view_module": "@jupyter-widgets/controls",
            "_view_module_version": "1.5.0",
            "_view_name": "HTMLView",
            "description": "",
            "description_tooltip": null,
            "layout": "IPY_MODEL_cbdbaeb46a32422d9e281012ce72cd2d",
            "placeholder": "​",
            "style": "IPY_MODEL_c8051d5877b745448b81f4271e0fb78d",
            "value": "vocab.json: 100%"
          }
        },
        "ac4011d0c0394695a7583dfbe4c8ecb9": {
          "model_module": "@jupyter-widgets/controls",
          "model_name": "FloatProgressModel",
          "model_module_version": "1.5.0",
          "state": {
            "_dom_classes": [],
            "_model_module": "@jupyter-widgets/controls",
            "_model_module_version": "1.5.0",
            "_model_name": "FloatProgressModel",
            "_view_count": null,
            "_view_module": "@jupyter-widgets/controls",
            "_view_module_version": "1.5.0",
            "_view_name": "ProgressView",
            "bar_style": "success",
            "description": "",
            "description_tooltip": null,
            "layout": "IPY_MODEL_13d2589d391347928546a6b048babee2",
            "max": 1042301,
            "min": 0,
            "orientation": "horizontal",
            "style": "IPY_MODEL_a8c9eacc6d594cd98d39fb78f7207898",
            "value": 1042301
          }
        },
        "74a2f770e0f34cc187a37a107b50bb61": {
          "model_module": "@jupyter-widgets/controls",
          "model_name": "HTMLModel",
          "model_module_version": "1.5.0",
          "state": {
            "_dom_classes": [],
            "_model_module": "@jupyter-widgets/controls",
            "_model_module_version": "1.5.0",
            "_model_name": "HTMLModel",
            "_view_count": null,
            "_view_module": "@jupyter-widgets/controls",
            "_view_module_version": "1.5.0",
            "_view_name": "HTMLView",
            "description": "",
            "description_tooltip": null,
            "layout": "IPY_MODEL_5a7161e7b66147f5a6298abc447bc541",
            "placeholder": "​",
            "style": "IPY_MODEL_4da1c4dbfa1f47c39a8662bb47aea9d7",
            "value": " 1.04M/1.04M [00:00&lt;00:00, 4.21MB/s]"
          }
        },
        "c35276c925ad48eeb88cd0fddf5cc6bf": {
          "model_module": "@jupyter-widgets/base",
          "model_name": "LayoutModel",
          "model_module_version": "1.2.0",
          "state": {
            "_model_module": "@jupyter-widgets/base",
            "_model_module_version": "1.2.0",
            "_model_name": "LayoutModel",
            "_view_count": null,
            "_view_module": "@jupyter-widgets/base",
            "_view_module_version": "1.2.0",
            "_view_name": "LayoutView",
            "align_content": null,
            "align_items": null,
            "align_self": null,
            "border": null,
            "bottom": null,
            "display": null,
            "flex": null,
            "flex_flow": null,
            "grid_area": null,
            "grid_auto_columns": null,
            "grid_auto_flow": null,
            "grid_auto_rows": null,
            "grid_column": null,
            "grid_gap": null,
            "grid_row": null,
            "grid_template_areas": null,
            "grid_template_columns": null,
            "grid_template_rows": null,
            "height": null,
            "justify_content": null,
            "justify_items": null,
            "left": null,
            "margin": null,
            "max_height": null,
            "max_width": null,
            "min_height": null,
            "min_width": null,
            "object_fit": null,
            "object_position": null,
            "order": null,
            "overflow": null,
            "overflow_x": null,
            "overflow_y": null,
            "padding": null,
            "right": null,
            "top": null,
            "visibility": null,
            "width": null
          }
        },
        "cbdbaeb46a32422d9e281012ce72cd2d": {
          "model_module": "@jupyter-widgets/base",
          "model_name": "LayoutModel",
          "model_module_version": "1.2.0",
          "state": {
            "_model_module": "@jupyter-widgets/base",
            "_model_module_version": "1.2.0",
            "_model_name": "LayoutModel",
            "_view_count": null,
            "_view_module": "@jupyter-widgets/base",
            "_view_module_version": "1.2.0",
            "_view_name": "LayoutView",
            "align_content": null,
            "align_items": null,
            "align_self": null,
            "border": null,
            "bottom": null,
            "display": null,
            "flex": null,
            "flex_flow": null,
            "grid_area": null,
            "grid_auto_columns": null,
            "grid_auto_flow": null,
            "grid_auto_rows": null,
            "grid_column": null,
            "grid_gap": null,
            "grid_row": null,
            "grid_template_areas": null,
            "grid_template_columns": null,
            "grid_template_rows": null,
            "height": null,
            "justify_content": null,
            "justify_items": null,
            "left": null,
            "margin": null,
            "max_height": null,
            "max_width": null,
            "min_height": null,
            "min_width": null,
            "object_fit": null,
            "object_position": null,
            "order": null,
            "overflow": null,
            "overflow_x": null,
            "overflow_y": null,
            "padding": null,
            "right": null,
            "top": null,
            "visibility": null,
            "width": null
          }
        },
        "c8051d5877b745448b81f4271e0fb78d": {
          "model_module": "@jupyter-widgets/controls",
          "model_name": "DescriptionStyleModel",
          "model_module_version": "1.5.0",
          "state": {
            "_model_module": "@jupyter-widgets/controls",
            "_model_module_version": "1.5.0",
            "_model_name": "DescriptionStyleModel",
            "_view_count": null,
            "_view_module": "@jupyter-widgets/base",
            "_view_module_version": "1.2.0",
            "_view_name": "StyleView",
            "description_width": ""
          }
        },
        "13d2589d391347928546a6b048babee2": {
          "model_module": "@jupyter-widgets/base",
          "model_name": "LayoutModel",
          "model_module_version": "1.2.0",
          "state": {
            "_model_module": "@jupyter-widgets/base",
            "_model_module_version": "1.2.0",
            "_model_name": "LayoutModel",
            "_view_count": null,
            "_view_module": "@jupyter-widgets/base",
            "_view_module_version": "1.2.0",
            "_view_name": "LayoutView",
            "align_content": null,
            "align_items": null,
            "align_self": null,
            "border": null,
            "bottom": null,
            "display": null,
            "flex": null,
            "flex_flow": null,
            "grid_area": null,
            "grid_auto_columns": null,
            "grid_auto_flow": null,
            "grid_auto_rows": null,
            "grid_column": null,
            "grid_gap": null,
            "grid_row": null,
            "grid_template_areas": null,
            "grid_template_columns": null,
            "grid_template_rows": null,
            "height": null,
            "justify_content": null,
            "justify_items": null,
            "left": null,
            "margin": null,
            "max_height": null,
            "max_width": null,
            "min_height": null,
            "min_width": null,
            "object_fit": null,
            "object_position": null,
            "order": null,
            "overflow": null,
            "overflow_x": null,
            "overflow_y": null,
            "padding": null,
            "right": null,
            "top": null,
            "visibility": null,
            "width": null
          }
        },
        "a8c9eacc6d594cd98d39fb78f7207898": {
          "model_module": "@jupyter-widgets/controls",
          "model_name": "ProgressStyleModel",
          "model_module_version": "1.5.0",
          "state": {
            "_model_module": "@jupyter-widgets/controls",
            "_model_module_version": "1.5.0",
            "_model_name": "ProgressStyleModel",
            "_view_count": null,
            "_view_module": "@jupyter-widgets/base",
            "_view_module_version": "1.2.0",
            "_view_name": "StyleView",
            "bar_color": null,
            "description_width": ""
          }
        },
        "5a7161e7b66147f5a6298abc447bc541": {
          "model_module": "@jupyter-widgets/base",
          "model_name": "LayoutModel",
          "model_module_version": "1.2.0",
          "state": {
            "_model_module": "@jupyter-widgets/base",
            "_model_module_version": "1.2.0",
            "_model_name": "LayoutModel",
            "_view_count": null,
            "_view_module": "@jupyter-widgets/base",
            "_view_module_version": "1.2.0",
            "_view_name": "LayoutView",
            "align_content": null,
            "align_items": null,
            "align_self": null,
            "border": null,
            "bottom": null,
            "display": null,
            "flex": null,
            "flex_flow": null,
            "grid_area": null,
            "grid_auto_columns": null,
            "grid_auto_flow": null,
            "grid_auto_rows": null,
            "grid_column": null,
            "grid_gap": null,
            "grid_row": null,
            "grid_template_areas": null,
            "grid_template_columns": null,
            "grid_template_rows": null,
            "height": null,
            "justify_content": null,
            "justify_items": null,
            "left": null,
            "margin": null,
            "max_height": null,
            "max_width": null,
            "min_height": null,
            "min_width": null,
            "object_fit": null,
            "object_position": null,
            "order": null,
            "overflow": null,
            "overflow_x": null,
            "overflow_y": null,
            "padding": null,
            "right": null,
            "top": null,
            "visibility": null,
            "width": null
          }
        },
        "4da1c4dbfa1f47c39a8662bb47aea9d7": {
          "model_module": "@jupyter-widgets/controls",
          "model_name": "DescriptionStyleModel",
          "model_module_version": "1.5.0",
          "state": {
            "_model_module": "@jupyter-widgets/controls",
            "_model_module_version": "1.5.0",
            "_model_name": "DescriptionStyleModel",
            "_view_count": null,
            "_view_module": "@jupyter-widgets/base",
            "_view_module_version": "1.2.0",
            "_view_name": "StyleView",
            "description_width": ""
          }
        },
        "be3b313d8678471b95522b62dce8dce3": {
          "model_module": "@jupyter-widgets/controls",
          "model_name": "HBoxModel",
          "model_module_version": "1.5.0",
          "state": {
            "_dom_classes": [],
            "_model_module": "@jupyter-widgets/controls",
            "_model_module_version": "1.5.0",
            "_model_name": "HBoxModel",
            "_view_count": null,
            "_view_module": "@jupyter-widgets/controls",
            "_view_module_version": "1.5.0",
            "_view_name": "HBoxView",
            "box_style": "",
            "children": [
              "IPY_MODEL_841ad7b29e6a442ea1ecaa77551025f2",
              "IPY_MODEL_58a6846378e44c84823190ec7a3af203",
              "IPY_MODEL_98ca66addcc54991b74931921368a0d6"
            ],
            "layout": "IPY_MODEL_be5a3541f8504fb48a20cb311bf9c19f"
          }
        },
        "841ad7b29e6a442ea1ecaa77551025f2": {
          "model_module": "@jupyter-widgets/controls",
          "model_name": "HTMLModel",
          "model_module_version": "1.5.0",
          "state": {
            "_dom_classes": [],
            "_model_module": "@jupyter-widgets/controls",
            "_model_module_version": "1.5.0",
            "_model_name": "HTMLModel",
            "_view_count": null,
            "_view_module": "@jupyter-widgets/controls",
            "_view_module_version": "1.5.0",
            "_view_name": "HTMLView",
            "description": "",
            "description_tooltip": null,
            "layout": "IPY_MODEL_b40cd26e1da54ea48646a5f379f6f365",
            "placeholder": "​",
            "style": "IPY_MODEL_cfc4efb1a60e4b07acd350fa205776d2",
            "value": "merges.txt: 100%"
          }
        },
        "58a6846378e44c84823190ec7a3af203": {
          "model_module": "@jupyter-widgets/controls",
          "model_name": "FloatProgressModel",
          "model_module_version": "1.5.0",
          "state": {
            "_dom_classes": [],
            "_model_module": "@jupyter-widgets/controls",
            "_model_module_version": "1.5.0",
            "_model_name": "FloatProgressModel",
            "_view_count": null,
            "_view_module": "@jupyter-widgets/controls",
            "_view_module_version": "1.5.0",
            "_view_name": "ProgressView",
            "bar_style": "success",
            "description": "",
            "description_tooltip": null,
            "layout": "IPY_MODEL_788cf3008caa45afbfdd6c342974a67d",
            "max": 456318,
            "min": 0,
            "orientation": "horizontal",
            "style": "IPY_MODEL_85e0c41278f547888e543c304865350f",
            "value": 456318
          }
        },
        "98ca66addcc54991b74931921368a0d6": {
          "model_module": "@jupyter-widgets/controls",
          "model_name": "HTMLModel",
          "model_module_version": "1.5.0",
          "state": {
            "_dom_classes": [],
            "_model_module": "@jupyter-widgets/controls",
            "_model_module_version": "1.5.0",
            "_model_name": "HTMLModel",
            "_view_count": null,
            "_view_module": "@jupyter-widgets/controls",
            "_view_module_version": "1.5.0",
            "_view_name": "HTMLView",
            "description": "",
            "description_tooltip": null,
            "layout": "IPY_MODEL_1ef84f369baf44acada67bfe49357af8",
            "placeholder": "​",
            "style": "IPY_MODEL_402c4d677b1f493b952fea310724d327",
            "value": " 456k/456k [00:00&lt;00:00, 17.1MB/s]"
          }
        },
        "be5a3541f8504fb48a20cb311bf9c19f": {
          "model_module": "@jupyter-widgets/base",
          "model_name": "LayoutModel",
          "model_module_version": "1.2.0",
          "state": {
            "_model_module": "@jupyter-widgets/base",
            "_model_module_version": "1.2.0",
            "_model_name": "LayoutModel",
            "_view_count": null,
            "_view_module": "@jupyter-widgets/base",
            "_view_module_version": "1.2.0",
            "_view_name": "LayoutView",
            "align_content": null,
            "align_items": null,
            "align_self": null,
            "border": null,
            "bottom": null,
            "display": null,
            "flex": null,
            "flex_flow": null,
            "grid_area": null,
            "grid_auto_columns": null,
            "grid_auto_flow": null,
            "grid_auto_rows": null,
            "grid_column": null,
            "grid_gap": null,
            "grid_row": null,
            "grid_template_areas": null,
            "grid_template_columns": null,
            "grid_template_rows": null,
            "height": null,
            "justify_content": null,
            "justify_items": null,
            "left": null,
            "margin": null,
            "max_height": null,
            "max_width": null,
            "min_height": null,
            "min_width": null,
            "object_fit": null,
            "object_position": null,
            "order": null,
            "overflow": null,
            "overflow_x": null,
            "overflow_y": null,
            "padding": null,
            "right": null,
            "top": null,
            "visibility": null,
            "width": null
          }
        },
        "b40cd26e1da54ea48646a5f379f6f365": {
          "model_module": "@jupyter-widgets/base",
          "model_name": "LayoutModel",
          "model_module_version": "1.2.0",
          "state": {
            "_model_module": "@jupyter-widgets/base",
            "_model_module_version": "1.2.0",
            "_model_name": "LayoutModel",
            "_view_count": null,
            "_view_module": "@jupyter-widgets/base",
            "_view_module_version": "1.2.0",
            "_view_name": "LayoutView",
            "align_content": null,
            "align_items": null,
            "align_self": null,
            "border": null,
            "bottom": null,
            "display": null,
            "flex": null,
            "flex_flow": null,
            "grid_area": null,
            "grid_auto_columns": null,
            "grid_auto_flow": null,
            "grid_auto_rows": null,
            "grid_column": null,
            "grid_gap": null,
            "grid_row": null,
            "grid_template_areas": null,
            "grid_template_columns": null,
            "grid_template_rows": null,
            "height": null,
            "justify_content": null,
            "justify_items": null,
            "left": null,
            "margin": null,
            "max_height": null,
            "max_width": null,
            "min_height": null,
            "min_width": null,
            "object_fit": null,
            "object_position": null,
            "order": null,
            "overflow": null,
            "overflow_x": null,
            "overflow_y": null,
            "padding": null,
            "right": null,
            "top": null,
            "visibility": null,
            "width": null
          }
        },
        "cfc4efb1a60e4b07acd350fa205776d2": {
          "model_module": "@jupyter-widgets/controls",
          "model_name": "DescriptionStyleModel",
          "model_module_version": "1.5.0",
          "state": {
            "_model_module": "@jupyter-widgets/controls",
            "_model_module_version": "1.5.0",
            "_model_name": "DescriptionStyleModel",
            "_view_count": null,
            "_view_module": "@jupyter-widgets/base",
            "_view_module_version": "1.2.0",
            "_view_name": "StyleView",
            "description_width": ""
          }
        },
        "788cf3008caa45afbfdd6c342974a67d": {
          "model_module": "@jupyter-widgets/base",
          "model_name": "LayoutModel",
          "model_module_version": "1.2.0",
          "state": {
            "_model_module": "@jupyter-widgets/base",
            "_model_module_version": "1.2.0",
            "_model_name": "LayoutModel",
            "_view_count": null,
            "_view_module": "@jupyter-widgets/base",
            "_view_module_version": "1.2.0",
            "_view_name": "LayoutView",
            "align_content": null,
            "align_items": null,
            "align_self": null,
            "border": null,
            "bottom": null,
            "display": null,
            "flex": null,
            "flex_flow": null,
            "grid_area": null,
            "grid_auto_columns": null,
            "grid_auto_flow": null,
            "grid_auto_rows": null,
            "grid_column": null,
            "grid_gap": null,
            "grid_row": null,
            "grid_template_areas": null,
            "grid_template_columns": null,
            "grid_template_rows": null,
            "height": null,
            "justify_content": null,
            "justify_items": null,
            "left": null,
            "margin": null,
            "max_height": null,
            "max_width": null,
            "min_height": null,
            "min_width": null,
            "object_fit": null,
            "object_position": null,
            "order": null,
            "overflow": null,
            "overflow_x": null,
            "overflow_y": null,
            "padding": null,
            "right": null,
            "top": null,
            "visibility": null,
            "width": null
          }
        },
        "85e0c41278f547888e543c304865350f": {
          "model_module": "@jupyter-widgets/controls",
          "model_name": "ProgressStyleModel",
          "model_module_version": "1.5.0",
          "state": {
            "_model_module": "@jupyter-widgets/controls",
            "_model_module_version": "1.5.0",
            "_model_name": "ProgressStyleModel",
            "_view_count": null,
            "_view_module": "@jupyter-widgets/base",
            "_view_module_version": "1.2.0",
            "_view_name": "StyleView",
            "bar_color": null,
            "description_width": ""
          }
        },
        "1ef84f369baf44acada67bfe49357af8": {
          "model_module": "@jupyter-widgets/base",
          "model_name": "LayoutModel",
          "model_module_version": "1.2.0",
          "state": {
            "_model_module": "@jupyter-widgets/base",
            "_model_module_version": "1.2.0",
            "_model_name": "LayoutModel",
            "_view_count": null,
            "_view_module": "@jupyter-widgets/base",
            "_view_module_version": "1.2.0",
            "_view_name": "LayoutView",
            "align_content": null,
            "align_items": null,
            "align_self": null,
            "border": null,
            "bottom": null,
            "display": null,
            "flex": null,
            "flex_flow": null,
            "grid_area": null,
            "grid_auto_columns": null,
            "grid_auto_flow": null,
            "grid_auto_rows": null,
            "grid_column": null,
            "grid_gap": null,
            "grid_row": null,
            "grid_template_areas": null,
            "grid_template_columns": null,
            "grid_template_rows": null,
            "height": null,
            "justify_content": null,
            "justify_items": null,
            "left": null,
            "margin": null,
            "max_height": null,
            "max_width": null,
            "min_height": null,
            "min_width": null,
            "object_fit": null,
            "object_position": null,
            "order": null,
            "overflow": null,
            "overflow_x": null,
            "overflow_y": null,
            "padding": null,
            "right": null,
            "top": null,
            "visibility": null,
            "width": null
          }
        },
        "402c4d677b1f493b952fea310724d327": {
          "model_module": "@jupyter-widgets/controls",
          "model_name": "DescriptionStyleModel",
          "model_module_version": "1.5.0",
          "state": {
            "_model_module": "@jupyter-widgets/controls",
            "_model_module_version": "1.5.0",
            "_model_name": "DescriptionStyleModel",
            "_view_count": null,
            "_view_module": "@jupyter-widgets/base",
            "_view_module_version": "1.2.0",
            "_view_name": "StyleView",
            "description_width": ""
          }
        },
        "b1fb8527ab254a6f8483693aacf8eca8": {
          "model_module": "@jupyter-widgets/controls",
          "model_name": "HBoxModel",
          "model_module_version": "1.5.0",
          "state": {
            "_dom_classes": [],
            "_model_module": "@jupyter-widgets/controls",
            "_model_module_version": "1.5.0",
            "_model_name": "HBoxModel",
            "_view_count": null,
            "_view_module": "@jupyter-widgets/controls",
            "_view_module_version": "1.5.0",
            "_view_name": "HBoxView",
            "box_style": "",
            "children": [
              "IPY_MODEL_ec7c378b513f45d09a9acb40f90f6745",
              "IPY_MODEL_7b9d2f68a9004ad5816a16cf653402a9",
              "IPY_MODEL_b8846fdee9ca4dbbaa7c5dfbfb6c04a0"
            ],
            "layout": "IPY_MODEL_7ff16813c9c04d54aba99cfc9dc83d3c"
          }
        },
        "ec7c378b513f45d09a9acb40f90f6745": {
          "model_module": "@jupyter-widgets/controls",
          "model_name": "HTMLModel",
          "model_module_version": "1.5.0",
          "state": {
            "_dom_classes": [],
            "_model_module": "@jupyter-widgets/controls",
            "_model_module_version": "1.5.0",
            "_model_name": "HTMLModel",
            "_view_count": null,
            "_view_module": "@jupyter-widgets/controls",
            "_view_module_version": "1.5.0",
            "_view_name": "HTMLView",
            "description": "",
            "description_tooltip": null,
            "layout": "IPY_MODEL_1f88c3bf77334957af3402db40d03a41",
            "placeholder": "​",
            "style": "IPY_MODEL_7c54291e7e01450eaefd05b5af05228b",
            "value": "tokenizer.json: 100%"
          }
        },
        "7b9d2f68a9004ad5816a16cf653402a9": {
          "model_module": "@jupyter-widgets/controls",
          "model_name": "FloatProgressModel",
          "model_module_version": "1.5.0",
          "state": {
            "_dom_classes": [],
            "_model_module": "@jupyter-widgets/controls",
            "_model_module_version": "1.5.0",
            "_model_name": "FloatProgressModel",
            "_view_count": null,
            "_view_module": "@jupyter-widgets/controls",
            "_view_module_version": "1.5.0",
            "_view_name": "ProgressView",
            "bar_style": "success",
            "description": "",
            "description_tooltip": null,
            "layout": "IPY_MODEL_82caa9db1e8e4f7e879332b51a912159",
            "max": 1355256,
            "min": 0,
            "orientation": "horizontal",
            "style": "IPY_MODEL_02e438dffa894958af8beacba2f43979",
            "value": 1355256
          }
        },
        "b8846fdee9ca4dbbaa7c5dfbfb6c04a0": {
          "model_module": "@jupyter-widgets/controls",
          "model_name": "HTMLModel",
          "model_module_version": "1.5.0",
          "state": {
            "_dom_classes": [],
            "_model_module": "@jupyter-widgets/controls",
            "_model_module_version": "1.5.0",
            "_model_name": "HTMLModel",
            "_view_count": null,
            "_view_module": "@jupyter-widgets/controls",
            "_view_module_version": "1.5.0",
            "_view_name": "HTMLView",
            "description": "",
            "description_tooltip": null,
            "layout": "IPY_MODEL_20986463de7749528abda3bf0a3aa092",
            "placeholder": "​",
            "style": "IPY_MODEL_277960c5e02d4208862a478a98136e2d",
            "value": " 1.36M/1.36M [00:00&lt;00:00, 15.3MB/s]"
          }
        },
        "7ff16813c9c04d54aba99cfc9dc83d3c": {
          "model_module": "@jupyter-widgets/base",
          "model_name": "LayoutModel",
          "model_module_version": "1.2.0",
          "state": {
            "_model_module": "@jupyter-widgets/base",
            "_model_module_version": "1.2.0",
            "_model_name": "LayoutModel",
            "_view_count": null,
            "_view_module": "@jupyter-widgets/base",
            "_view_module_version": "1.2.0",
            "_view_name": "LayoutView",
            "align_content": null,
            "align_items": null,
            "align_self": null,
            "border": null,
            "bottom": null,
            "display": null,
            "flex": null,
            "flex_flow": null,
            "grid_area": null,
            "grid_auto_columns": null,
            "grid_auto_flow": null,
            "grid_auto_rows": null,
            "grid_column": null,
            "grid_gap": null,
            "grid_row": null,
            "grid_template_areas": null,
            "grid_template_columns": null,
            "grid_template_rows": null,
            "height": null,
            "justify_content": null,
            "justify_items": null,
            "left": null,
            "margin": null,
            "max_height": null,
            "max_width": null,
            "min_height": null,
            "min_width": null,
            "object_fit": null,
            "object_position": null,
            "order": null,
            "overflow": null,
            "overflow_x": null,
            "overflow_y": null,
            "padding": null,
            "right": null,
            "top": null,
            "visibility": null,
            "width": null
          }
        },
        "1f88c3bf77334957af3402db40d03a41": {
          "model_module": "@jupyter-widgets/base",
          "model_name": "LayoutModel",
          "model_module_version": "1.2.0",
          "state": {
            "_model_module": "@jupyter-widgets/base",
            "_model_module_version": "1.2.0",
            "_model_name": "LayoutModel",
            "_view_count": null,
            "_view_module": "@jupyter-widgets/base",
            "_view_module_version": "1.2.0",
            "_view_name": "LayoutView",
            "align_content": null,
            "align_items": null,
            "align_self": null,
            "border": null,
            "bottom": null,
            "display": null,
            "flex": null,
            "flex_flow": null,
            "grid_area": null,
            "grid_auto_columns": null,
            "grid_auto_flow": null,
            "grid_auto_rows": null,
            "grid_column": null,
            "grid_gap": null,
            "grid_row": null,
            "grid_template_areas": null,
            "grid_template_columns": null,
            "grid_template_rows": null,
            "height": null,
            "justify_content": null,
            "justify_items": null,
            "left": null,
            "margin": null,
            "max_height": null,
            "max_width": null,
            "min_height": null,
            "min_width": null,
            "object_fit": null,
            "object_position": null,
            "order": null,
            "overflow": null,
            "overflow_x": null,
            "overflow_y": null,
            "padding": null,
            "right": null,
            "top": null,
            "visibility": null,
            "width": null
          }
        },
        "7c54291e7e01450eaefd05b5af05228b": {
          "model_module": "@jupyter-widgets/controls",
          "model_name": "DescriptionStyleModel",
          "model_module_version": "1.5.0",
          "state": {
            "_model_module": "@jupyter-widgets/controls",
            "_model_module_version": "1.5.0",
            "_model_name": "DescriptionStyleModel",
            "_view_count": null,
            "_view_module": "@jupyter-widgets/base",
            "_view_module_version": "1.2.0",
            "_view_name": "StyleView",
            "description_width": ""
          }
        },
        "82caa9db1e8e4f7e879332b51a912159": {
          "model_module": "@jupyter-widgets/base",
          "model_name": "LayoutModel",
          "model_module_version": "1.2.0",
          "state": {
            "_model_module": "@jupyter-widgets/base",
            "_model_module_version": "1.2.0",
            "_model_name": "LayoutModel",
            "_view_count": null,
            "_view_module": "@jupyter-widgets/base",
            "_view_module_version": "1.2.0",
            "_view_name": "LayoutView",
            "align_content": null,
            "align_items": null,
            "align_self": null,
            "border": null,
            "bottom": null,
            "display": null,
            "flex": null,
            "flex_flow": null,
            "grid_area": null,
            "grid_auto_columns": null,
            "grid_auto_flow": null,
            "grid_auto_rows": null,
            "grid_column": null,
            "grid_gap": null,
            "grid_row": null,
            "grid_template_areas": null,
            "grid_template_columns": null,
            "grid_template_rows": null,
            "height": null,
            "justify_content": null,
            "justify_items": null,
            "left": null,
            "margin": null,
            "max_height": null,
            "max_width": null,
            "min_height": null,
            "min_width": null,
            "object_fit": null,
            "object_position": null,
            "order": null,
            "overflow": null,
            "overflow_x": null,
            "overflow_y": null,
            "padding": null,
            "right": null,
            "top": null,
            "visibility": null,
            "width": null
          }
        },
        "02e438dffa894958af8beacba2f43979": {
          "model_module": "@jupyter-widgets/controls",
          "model_name": "ProgressStyleModel",
          "model_module_version": "1.5.0",
          "state": {
            "_model_module": "@jupyter-widgets/controls",
            "_model_module_version": "1.5.0",
            "_model_name": "ProgressStyleModel",
            "_view_count": null,
            "_view_module": "@jupyter-widgets/base",
            "_view_module_version": "1.2.0",
            "_view_name": "StyleView",
            "bar_color": null,
            "description_width": ""
          }
        },
        "20986463de7749528abda3bf0a3aa092": {
          "model_module": "@jupyter-widgets/base",
          "model_name": "LayoutModel",
          "model_module_version": "1.2.0",
          "state": {
            "_model_module": "@jupyter-widgets/base",
            "_model_module_version": "1.2.0",
            "_model_name": "LayoutModel",
            "_view_count": null,
            "_view_module": "@jupyter-widgets/base",
            "_view_module_version": "1.2.0",
            "_view_name": "LayoutView",
            "align_content": null,
            "align_items": null,
            "align_self": null,
            "border": null,
            "bottom": null,
            "display": null,
            "flex": null,
            "flex_flow": null,
            "grid_area": null,
            "grid_auto_columns": null,
            "grid_auto_flow": null,
            "grid_auto_rows": null,
            "grid_column": null,
            "grid_gap": null,
            "grid_row": null,
            "grid_template_areas": null,
            "grid_template_columns": null,
            "grid_template_rows": null,
            "height": null,
            "justify_content": null,
            "justify_items": null,
            "left": null,
            "margin": null,
            "max_height": null,
            "max_width": null,
            "min_height": null,
            "min_width": null,
            "object_fit": null,
            "object_position": null,
            "order": null,
            "overflow": null,
            "overflow_x": null,
            "overflow_y": null,
            "padding": null,
            "right": null,
            "top": null,
            "visibility": null,
            "width": null
          }
        },
        "277960c5e02d4208862a478a98136e2d": {
          "model_module": "@jupyter-widgets/controls",
          "model_name": "DescriptionStyleModel",
          "model_module_version": "1.5.0",
          "state": {
            "_model_module": "@jupyter-widgets/controls",
            "_model_module_version": "1.5.0",
            "_model_name": "DescriptionStyleModel",
            "_view_count": null,
            "_view_module": "@jupyter-widgets/base",
            "_view_module_version": "1.2.0",
            "_view_name": "StyleView",
            "description_width": ""
          }
        }
      }
    }
  },
  "cells": [
    {
      "cell_type": "code",
      "execution_count": null,
      "metadata": {
        "id": "VqNeHH4WBoJH"
      },
      "outputs": [],
      "source": [
        "import pandas as pd\n",
        "import numpy as np\n",
        "import os\n",
        "import torch\n",
        "from tqdm import tqdm\n",
        "import json\n",
        "from transformers import PreTrainedTokenizerFast, GPT2LMHeadModel, GPT2TokenizerFast, GPT2Tokenizer"
      ]
    },
    {
      "cell_type": "code",
      "source": [
        "from google.colab import drive\n",
        "drive.mount('/content/drive')"
      ],
      "metadata": {
        "colab": {
          "base_uri": "https://localhost:8080/"
        },
        "id": "kDNINbUNua0j",
        "outputId": "1de373e7-d74b-47c9-b704-6d17b74b5592"
      },
      "execution_count": null,
      "outputs": [
        {
          "output_type": "stream",
          "name": "stdout",
          "text": [
            "Mounted at /content/drive\n"
          ]
        }
      ]
    },
    {
      "cell_type": "code",
      "source": [
        "ip_base_path = \"/content/drive/MyDrive/Colab Notebooks/20-30 Oct 2024- Test Data Algo1-2-3_mlp/Input Data\"\n",
        "op_base_path = \"/content/drive/MyDrive/Colab Notebooks/20-30 Oct 2024- Test Data Algo1-2-3_mlp/2_Default_LLM_Prompt_for_each_word\""
      ],
      "metadata": {
        "id": "sUt1Wc8-ptgY"
      },
      "execution_count": null,
      "outputs": []
    },
    {
      "cell_type": "code",
      "source": [
        "os.makedirs(op_base_path, exist_ok=True)"
      ],
      "metadata": {
        "id": "S9j1Qp1CpvMf"
      },
      "execution_count": null,
      "outputs": []
    },
    {
      "cell_type": "code",
      "source": [
        "def get_model():\n",
        "  model = GPT2LMHeadModel.from_pretrained(\"openai-community/gpt2\") #https://huggingface.co/openai-community/gpt2\n",
        "  return model"
      ],
      "metadata": {
        "id": "Aw99lRdKGePK"
      },
      "execution_count": null,
      "outputs": []
    },
    {
      "cell_type": "code",
      "source": [
        "def get_tokenizer():\n",
        "  tokenizer = GPT2Tokenizer.from_pretrained(\"openai-community/gpt2\", clean_up_tokenization_spaces=True)\n",
        "  if tokenizer.eos_token:\n",
        "    tokenizer.pad_token = tokenizer.eos_token\n",
        "  else:\n",
        "      pad_token = '[PAD]'\n",
        "      tokenizer.add_special_tokens({'pad_token': pad_token})\n",
        "      tokenizer.pad_token = pad_token\n",
        "\n",
        "  return tokenizer"
      ],
      "metadata": {
        "id": "2z-yZD5RC8Fo"
      },
      "execution_count": null,
      "outputs": []
    },
    {
      "cell_type": "code",
      "source": [
        "def create_word_dict(df):\n",
        "  text_dict = {}\n",
        "\n",
        "  for col in df.columns:\n",
        "    text_dict[col] = []\n",
        "    items = df[col].unique()\n",
        "    for item in items:\n",
        "      text_dict[col].append({'value': item, 'embd': []})\n",
        "\n",
        "  return text_dict"
      ],
      "metadata": {
        "id": "_GxcCXK3GuQG"
      },
      "execution_count": null,
      "outputs": []
    },
    {
      "cell_type": "code",
      "source": [
        "def get_prompt(column_value, column_index, df_meta, dataset_description, task_description):\n",
        "  columns_info = \", \".join(df_meta.loc[:,\"Variable Name\"])\n",
        "  column_name = df_meta.loc[column_index, 'Variable Name']\n",
        "\n",
        "  prompt = f'''<|start_prompt|>\\nDataset description: {dataset_description}\\nTask description: {task_description}\\nColumns: {columns_info} \\nGenerate embeddings when row has'''\n",
        "  prompt += f'''Column {column_name} which contains {column_value}'''\n",
        "  prompt += \"\\n<|end_prompt|>\"\n",
        "\n",
        "  return prompt"
      ],
      "metadata": {
        "id": "rUWuQQhzjfpV"
      },
      "execution_count": null,
      "outputs": []
    },
    {
      "cell_type": "code",
      "source": [
        "def create_embd(text_dict, model, tokenizer, df_meta, dataset_description, task_description, max_embd_size=1024):\n",
        "  for column_index in text_dict.keys():\n",
        "    for pos, item in enumerate(text_dict[column_index]):\n",
        "      column_value = item['value'] if (item['value']!='nan' or pd.isna(item['value'])) else 'Unknown'\n",
        "      prompt_ = get_prompt(column_value, column_index, df_meta, dataset_description, task_description)\n",
        "\n",
        "      # Tokenize the prompt\n",
        "      tokenized_prompt = tokenizer(prompt_, return_tensors=\"pt\", padding=True, truncation=True, max_length=max_embd_size)\n",
        "      input_ids = tokenized_prompt.input_ids #shape [1, 300]\n",
        "\n",
        "      # Get the embeddings from the model's input embedding layer\n",
        "      prompt_embeddings = model.get_input_embeddings()(input_ids)  # shape [1, 300, 768] where max_embd_size = 300 or max token count whichever is less\n",
        "\n",
        "      # Mean pooling across the token dimension to get a single vector\n",
        "      mean_embedding = prompt_embeddings.mean(dim=1)  # shape [1, 768]\n",
        "\n",
        "      # If you want to remove the batch dimension as well\n",
        "      mean_embedding = mean_embedding.squeeze(0)  # shape [768]\n",
        "\n",
        "      # Convert embeddings to a list if needed (e.g., to store in text_dict)\n",
        "      text_dict[column_index][pos]['embd'] = mean_embedding.detach().numpy().tolist()\n",
        "\n",
        "  return text_dict"
      ],
      "metadata": {
        "id": "bkMneZt7DqKH"
      },
      "execution_count": null,
      "outputs": []
    },
    {
      "cell_type": "code",
      "source": [
        "class NpEncoder(json.JSONEncoder):\n",
        "    def default(self, obj):\n",
        "        if isinstance(obj, np.integer):\n",
        "            return int(obj)\n",
        "        if isinstance(obj, np.floating):\n",
        "            return float(obj)\n",
        "        if isinstance(obj, np.ndarray):\n",
        "            return obj.tolist()\n",
        "        return super(NpEncoder, self).default(obj)"
      ],
      "metadata": {
        "id": "Ork72CU_D0Ga"
      },
      "execution_count": null,
      "outputs": []
    },
    {
      "cell_type": "code",
      "source": [
        "def save_embd_mappings(file_name, text_dict):\n",
        "  with open(file_name, 'w') as json_file:\n",
        "      json.dump(text_dict, json_file, cls=NpEncoder)"
      ],
      "metadata": {
        "id": "zYIzdU9zG9Dt"
      },
      "execution_count": null,
      "outputs": []
    },
    {
      "cell_type": "code",
      "source": [
        "def read_embd(file_name):\n",
        "  with open(file_name, 'r') as json_file:\n",
        "      embedding_dict = json.load(json_file)\n",
        "\n",
        "  return embedding_dict"
      ],
      "metadata": {
        "id": "-ZEpM7eDHGd0"
      },
      "execution_count": null,
      "outputs": []
    },
    {
      "cell_type": "code",
      "source": [
        "# Function to apply mapping\n",
        "def map_values(col, val, embedding_dict):\n",
        "  if(pd.isna(val)):\n",
        "    val='nan'\n",
        "  text_dict_col = embedding_dict[col]\n",
        "  single_dict = {d['value']: d['embd'] for d in text_dict_col}\n",
        "  if val in single_dict.keys():\n",
        "    return single_dict[val]\n",
        "  else:\n",
        "    return np.zeros(embd_size)"
      ],
      "metadata": {
        "id": "2S_3DmJxD3I3"
      },
      "execution_count": null,
      "outputs": []
    },
    {
      "cell_type": "code",
      "source": [
        "def create_and_save_embedded_data(df, file_path, embedding_dict):\n",
        "  for col in df.columns:\n",
        "    df[col] = df[col].map(lambda x: map_values(col, x, embedding_dict))\n",
        "\n",
        "  list_length = len(df[0][0])\n",
        "\n",
        "  # Create a dictionary to hold the new columns\n",
        "  new_columns = {}\n",
        "\n",
        "  # Populate the dictionary with the new columns\n",
        "  for col in df.columns:\n",
        "      for i in range(list_length):\n",
        "          new_column_name = f'value_{col}_{i+1}'\n",
        "          new_columns[new_column_name] = df[col].apply(lambda x: x[i])\n",
        "\n",
        "  # Create a new DataFrame from the dictionary\n",
        "  new_df_emb = pd.DataFrame(new_columns)\n",
        "  train_numpy_array = new_df_emb.to_numpy()\n",
        "  np.save(file_path, train_numpy_array) #.astype(np.float32)\n",
        "\n",
        "  print(\"Shape = \", new_df_emb.shape)"
      ],
      "metadata": {
        "id": "Oi6fYScBHVze"
      },
      "execution_count": null,
      "outputs": []
    },
    {
      "cell_type": "markdown",
      "source": [
        "###adult"
      ],
      "metadata": {
        "id": "pNEQ8ga8m52g"
      }
    },
    {
      "cell_type": "code",
      "source": [
        "if __name__=='__main__':\n",
        "  ip_data_path = f\"{ip_base_path}/adult\"\n",
        "  op_data_path = f\"{op_base_path}/adult\"\n",
        "  os.makedirs(op_data_path, exist_ok=True)\n",
        "  max_embd_size = 1024\n",
        "  embd_size = 768 #for gpt2\n",
        "  mapping_file = 'text-embedding-gpt.json'\n",
        "  file_names = [\"C_train\", \"C_test\", \"C_val\"]\n",
        "\n",
        "  df_meta = pd.read_csv(f'{ip_data_path}/adult.csv')\n",
        "\n",
        "  dataset_description = '''Extraction was done by Barry Becker from the 1994 Census database. The dataset contains 16 columns, including demographics and other features to describe a person. The target column, Income, is divided into two classes: <=50K and >50K.'''\n",
        "  task_description = '''Generate embeddings for the categorical columns to facilitate the prediction of whether a person makes over 50K a year.'''\n",
        "\n",
        "  data = np.load(f'{ip_data_path}/C_train.npy', allow_pickle=True)\n",
        "  df = pd.DataFrame(data)\n",
        "\n",
        "  llm_model = get_model()\n",
        "  tokenizer = get_tokenizer()\n",
        "\n",
        "  text_dict = create_word_dict(df)\n",
        "  text_dict = create_embd(text_dict, llm_model, tokenizer, df_meta, dataset_description, task_description, max_embd_size)\n",
        "\n",
        "  save_embd_mappings(mapping_file, text_dict)\n",
        "\n",
        "  for file_name in tqdm(file_names):\n",
        "    data = np.load(f'{ip_data_path}/{file_name}.npy', allow_pickle=True)\n",
        "    df = pd.DataFrame(data)\n",
        "    create_and_save_embedded_data(df, f'{op_data_path}/{file_name}.npy', text_dict)\n",
        "\n",
        "  !cp -R text-embedding-gpt.json '{op_data_path}'"
      ],
      "metadata": {
        "colab": {
          "base_uri": "https://localhost:8080/",
          "referenced_widgets": [
            "37c9f287fad647d7945d154aedcf39bf",
            "70f0b89151034b6c896be010854f94e0",
            "ddfbf589df76427e991d99c8ea616d7c",
            "bc98ee648d964a91b5915e9b5f882b6d",
            "c71e4e185caa41a6b027d074803e5d3f",
            "689b5d33bfe34087b230292ce1daa198",
            "56fbdcec79ec4707bfb16fc65ee0a418",
            "7a381e80e61249ad81ae2703c3ff6ade",
            "dc96a746d5d247f484af55191697b39a",
            "6ec0275adf9148859980157fae286834",
            "3d713dd5664b441aa9f2c7af438bf429",
            "6431119e44484945b8fab56c400198af",
            "884e02a00069456883b25dd9ab65cd3d",
            "1b109560ae254a878631022a5a8f3407",
            "e4c575e4f9a14a3083b49a30dbe91157",
            "0c0c07e67c744b0bba2a43f322115d08",
            "25fec5d311fb4a7bb9e31f73ac8beebe",
            "39ff63f512a048da9ef9087dec7dd965",
            "d1fa22ed94aa4a1baa66827fa8dc0fbe",
            "e379451638024602832139a51c3ab3fe",
            "7188bfdb61374e619b3c7326b4ded5f5",
            "650454c018314a27890a7ee903fc234c",
            "b70ac56c06104653ae898f0976915ec4",
            "ef0ae4d602fa474cb8d79ac6e312b582",
            "dddb2fde53ff4aa395b0ee4578d9d60d",
            "8389513be14e43f597cb716bc17ded1a",
            "e7b872ba3df34bb58a6a60de731eb504",
            "8f75ae45c68b41a2baaccbf8e58672b8",
            "060b46c48da244359ef826ccd4bf91d6",
            "c00b7b245656469b9f146ba254d1d010",
            "20c60e075cde43fbbd0f061619f4c5ad",
            "89c8bc2d295d4884a5c43c6e283a774a",
            "05066a1952e24ac0a80899a3a70bb605",
            "0e1b1b39f18f4a2896df2e4b2d823d90",
            "2ebc7216b8fd4328b43a90516092fcc7",
            "8108780c28d2491d951d50d6dcabbc75",
            "36a48e9c55af482eb8f218bc1431aecf",
            "c230ae0aa398485a859e02cc3a9fe0c1",
            "91875d7d84af41b1a0232c418e09363a",
            "1dd1c12f4cda49208695e18456ab3e2e",
            "be7c514d13864d399a3a2fbbfddef22d",
            "54a82cbefc9f446c814642e9483a3592",
            "95186413fb3243b2827170cb6ed1eac4",
            "7f20e9b0ffd1435eb612676a8299e29a",
            "42220a7558724c7ea903d22ab1565441",
            "8493c80c0c7c45b3a6aefc41f9845aa1",
            "ac4011d0c0394695a7583dfbe4c8ecb9",
            "74a2f770e0f34cc187a37a107b50bb61",
            "c35276c925ad48eeb88cd0fddf5cc6bf",
            "cbdbaeb46a32422d9e281012ce72cd2d",
            "c8051d5877b745448b81f4271e0fb78d",
            "13d2589d391347928546a6b048babee2",
            "a8c9eacc6d594cd98d39fb78f7207898",
            "5a7161e7b66147f5a6298abc447bc541",
            "4da1c4dbfa1f47c39a8662bb47aea9d7",
            "be3b313d8678471b95522b62dce8dce3",
            "841ad7b29e6a442ea1ecaa77551025f2",
            "58a6846378e44c84823190ec7a3af203",
            "98ca66addcc54991b74931921368a0d6",
            "be5a3541f8504fb48a20cb311bf9c19f",
            "b40cd26e1da54ea48646a5f379f6f365",
            "cfc4efb1a60e4b07acd350fa205776d2",
            "788cf3008caa45afbfdd6c342974a67d",
            "85e0c41278f547888e543c304865350f",
            "1ef84f369baf44acada67bfe49357af8",
            "402c4d677b1f493b952fea310724d327",
            "b1fb8527ab254a6f8483693aacf8eca8",
            "ec7c378b513f45d09a9acb40f90f6745",
            "7b9d2f68a9004ad5816a16cf653402a9",
            "b8846fdee9ca4dbbaa7c5dfbfb6c04a0",
            "7ff16813c9c04d54aba99cfc9dc83d3c",
            "1f88c3bf77334957af3402db40d03a41",
            "7c54291e7e01450eaefd05b5af05228b",
            "82caa9db1e8e4f7e879332b51a912159",
            "02e438dffa894958af8beacba2f43979",
            "20986463de7749528abda3bf0a3aa092",
            "277960c5e02d4208862a478a98136e2d"
          ]
        },
        "id": "JTH9bYxsGP4t",
        "outputId": "08b1cfef-d491-47df-a8e5-654bf1e95ca2"
      },
      "execution_count": null,
      "outputs": [
        {
          "output_type": "stream",
          "name": "stderr",
          "text": [
            "/usr/local/lib/python3.10/dist-packages/huggingface_hub/utils/_token.py:89: UserWarning: \n",
            "The secret `HF_TOKEN` does not exist in your Colab secrets.\n",
            "To authenticate with the Hugging Face Hub, create a token in your settings tab (https://huggingface.co/settings/tokens), set it as secret in your Google Colab and restart your session.\n",
            "You will be able to reuse this secret in all of your notebooks.\n",
            "Please note that authentication is recommended but still optional to access public models or datasets.\n",
            "  warnings.warn(\n"
          ]
        },
        {
          "output_type": "display_data",
          "data": {
            "text/plain": [
              "config.json:   0%|          | 0.00/665 [00:00<?, ?B/s]"
            ],
            "application/vnd.jupyter.widget-view+json": {
              "version_major": 2,
              "version_minor": 0,
              "model_id": "37c9f287fad647d7945d154aedcf39bf"
            }
          },
          "metadata": {}
        },
        {
          "output_type": "display_data",
          "data": {
            "text/plain": [
              "model.safetensors:   0%|          | 0.00/548M [00:00<?, ?B/s]"
            ],
            "application/vnd.jupyter.widget-view+json": {
              "version_major": 2,
              "version_minor": 0,
              "model_id": "6431119e44484945b8fab56c400198af"
            }
          },
          "metadata": {}
        },
        {
          "output_type": "display_data",
          "data": {
            "text/plain": [
              "generation_config.json:   0%|          | 0.00/124 [00:00<?, ?B/s]"
            ],
            "application/vnd.jupyter.widget-view+json": {
              "version_major": 2,
              "version_minor": 0,
              "model_id": "b70ac56c06104653ae898f0976915ec4"
            }
          },
          "metadata": {}
        },
        {
          "output_type": "display_data",
          "data": {
            "text/plain": [
              "tokenizer_config.json:   0%|          | 0.00/26.0 [00:00<?, ?B/s]"
            ],
            "application/vnd.jupyter.widget-view+json": {
              "version_major": 2,
              "version_minor": 0,
              "model_id": "0e1b1b39f18f4a2896df2e4b2d823d90"
            }
          },
          "metadata": {}
        },
        {
          "output_type": "display_data",
          "data": {
            "text/plain": [
              "vocab.json:   0%|          | 0.00/1.04M [00:00<?, ?B/s]"
            ],
            "application/vnd.jupyter.widget-view+json": {
              "version_major": 2,
              "version_minor": 0,
              "model_id": "42220a7558724c7ea903d22ab1565441"
            }
          },
          "metadata": {}
        },
        {
          "output_type": "display_data",
          "data": {
            "text/plain": [
              "merges.txt:   0%|          | 0.00/456k [00:00<?, ?B/s]"
            ],
            "application/vnd.jupyter.widget-view+json": {
              "version_major": 2,
              "version_minor": 0,
              "model_id": "be3b313d8678471b95522b62dce8dce3"
            }
          },
          "metadata": {}
        },
        {
          "output_type": "display_data",
          "data": {
            "text/plain": [
              "tokenizer.json:   0%|          | 0.00/1.36M [00:00<?, ?B/s]"
            ],
            "application/vnd.jupyter.widget-view+json": {
              "version_major": 2,
              "version_minor": 0,
              "model_id": "b1fb8527ab254a6f8483693aacf8eca8"
            }
          },
          "metadata": {}
        },
        {
          "output_type": "stream",
          "name": "stderr",
          "text": [
            " 33%|███▎      | 1/3 [01:15<02:30, 75.37s/it]"
          ]
        },
        {
          "output_type": "stream",
          "name": "stdout",
          "text": [
            "Shape =  (39074, 6144)\n"
          ]
        },
        {
          "output_type": "stream",
          "name": "stderr",
          "text": [
            "\r 67%|██████▋   | 2/3 [01:27<00:38, 38.43s/it]"
          ]
        },
        {
          "output_type": "stream",
          "name": "stdout",
          "text": [
            "Shape =  (4884, 6144)\n"
          ]
        },
        {
          "output_type": "stream",
          "name": "stderr",
          "text": [
            "100%|██████████| 3/3 [01:45<00:00, 35.32s/it]"
          ]
        },
        {
          "output_type": "stream",
          "name": "stdout",
          "text": [
            "Shape =  (4884, 6144)\n"
          ]
        },
        {
          "output_type": "stream",
          "name": "stderr",
          "text": [
            "\n"
          ]
        }
      ]
    },
    {
      "cell_type": "markdown",
      "source": [
        "###analcatdata"
      ],
      "metadata": {
        "id": "BZl-g-n3qq7N"
      }
    },
    {
      "cell_type": "code",
      "source": [
        "if __name__=='__main__':\n",
        "  ip_data_path = f\"{ip_base_path}/analcatdata\"\n",
        "  op_data_path = f\"{op_base_path}/analcatdata\"\n",
        "  os.makedirs(op_data_path, exist_ok=True)\n",
        "  max_embd_size = 1024\n",
        "  embd_size = 768 #for gpt2\n",
        "  mapping_file = 'text-embedding-gpt.json'\n",
        "  file_names = [\"C_train\", \"C_test\", \"C_val\"]\n",
        "\n",
        "  df_meta = pd.read_csv(f'{ip_data_path}/analcatdata.csv')\n",
        "\n",
        "  dataset_description = '''The dataset is sourced from the book \"Analyzing Categorical Data\" by Jeffrey S. Simonoff (2003), containing data on the DMFT Index (Decayed, Missing, and Filled Teeth) before and after different prevention strategies. It consists of 797 instances with 5 features, and no missing values.'''\n",
        "  task_description = '''Predict the type of prevention strategy applied based on the DMFT index before and after the intervention, as well as demographic information.'''\n",
        "\n",
        "  data = np.load(f'{ip_data_path}/C_train.npy', allow_pickle=True)\n",
        "  df = pd.DataFrame(data)\n",
        "\n",
        "  llm_model = get_model()\n",
        "  tokenizer = get_tokenizer()\n",
        "\n",
        "  text_dict = create_word_dict(df)\n",
        "  text_dict = create_embd(text_dict, llm_model, tokenizer, df_meta, dataset_description, task_description, max_embd_size)\n",
        "\n",
        "  save_embd_mappings(mapping_file, text_dict)\n",
        "\n",
        "  for file_name in tqdm(file_names):\n",
        "    data = np.load(f'{ip_data_path}/{file_name}.npy', allow_pickle=True)\n",
        "    df = pd.DataFrame(data)\n",
        "    create_and_save_embedded_data(df, f'{op_data_path}/{file_name}.npy', text_dict)\n",
        "\n",
        "  !cp -R text-embedding-gpt.json '{op_data_path}'"
      ],
      "metadata": {
        "colab": {
          "base_uri": "https://localhost:8080/"
        },
        "outputId": "eaa3c7d2-2c20-4a85-f300-848bd44d2703",
        "id": "w-7B7gYQqq7P"
      },
      "execution_count": null,
      "outputs": [
        {
          "output_type": "stream",
          "name": "stderr",
          "text": [
            " 33%|███▎      | 1/3 [00:03<00:06,  3.43s/it]"
          ]
        },
        {
          "output_type": "stream",
          "name": "stdout",
          "text": [
            "Shape =  (637, 3072)\n"
          ]
        },
        {
          "output_type": "stream",
          "name": "stderr",
          "text": [
            "\r 67%|██████▋   | 2/3 [00:04<00:01,  1.91s/it]"
          ]
        },
        {
          "output_type": "stream",
          "name": "stdout",
          "text": [
            "Shape =  (80, 3072)\n"
          ]
        },
        {
          "output_type": "stream",
          "name": "stderr",
          "text": [
            "100%|██████████| 3/3 [00:05<00:00,  1.78s/it]"
          ]
        },
        {
          "output_type": "stream",
          "name": "stdout",
          "text": [
            "Shape =  (80, 3072)\n"
          ]
        },
        {
          "output_type": "stream",
          "name": "stderr",
          "text": [
            "\n"
          ]
        }
      ]
    },
    {
      "cell_type": "markdown",
      "source": [
        "###credit-approval"
      ],
      "metadata": {
        "id": "oNRl5Uouqsno"
      }
    },
    {
      "cell_type": "code",
      "source": [
        "if __name__=='__main__':\n",
        "  ip_data_path = f\"{ip_base_path}/credit-approval\"\n",
        "  op_data_path = f\"{op_base_path}/credit-approval\"\n",
        "  os.makedirs(op_data_path, exist_ok=True)\n",
        "  max_embd_size = 1024\n",
        "  embd_size = 768 #for gpt2\n",
        "  mapping_file = 'text-embedding-gpt.json'\n",
        "  file_names = [\"C_train\", \"C_test\", \"C_val\"]\n",
        "\n",
        "  df_meta = pd.read_csv(f'{ip_data_path}/credit-approval.csv')\n",
        "\n",
        "  dataset_description = '''The Credit Approval dataset consists of 690 instances with 15 features used to evaluate credit card applications. The dataset includes a mix of continuous and categorical attributes, with some having missing values. To ensure confidentiality, attribute names and values have been anonymized.'''\n",
        "  task_description = '''Predict the credit approval status (target: A16) based on anonymized financial and demographic attributes using a combination of continuous and categorical data while handling any missing values appropriately.'''\n",
        "\n",
        "  data = np.load(f'{ip_data_path}/C_train.npy', allow_pickle=True)\n",
        "  df = pd.DataFrame(data)\n",
        "\n",
        "  llm_model = get_model()\n",
        "  tokenizer = get_tokenizer()\n",
        "\n",
        "  text_dict = create_word_dict(df)\n",
        "  text_dict = create_embd(text_dict, llm_model, tokenizer, df_meta, dataset_description, task_description, max_embd_size)\n",
        "\n",
        "  save_embd_mappings(mapping_file, text_dict)\n",
        "\n",
        "  for file_name in tqdm(file_names):\n",
        "    data = np.load(f'{ip_data_path}/{file_name}.npy', allow_pickle=True)\n",
        "    df = pd.DataFrame(data)\n",
        "    create_and_save_embedded_data(df, f'{op_data_path}/{file_name}.npy', text_dict)\n",
        "\n",
        "  !cp -R text-embedding-gpt.json '{op_data_path}'"
      ],
      "metadata": {
        "colab": {
          "base_uri": "https://localhost:8080/"
        },
        "outputId": "67bfcc58-c2ce-4763-e8c7-1cc0d88b13ca",
        "id": "2WuxfUtRqsnr"
      },
      "execution_count": null,
      "outputs": [
        {
          "output_type": "stream",
          "name": "stderr",
          "text": [
            " 33%|███▎      | 1/3 [00:02<00:05,  2.64s/it]"
          ]
        },
        {
          "output_type": "stream",
          "name": "stdout",
          "text": [
            "Shape =  (552, 6912)\n"
          ]
        },
        {
          "output_type": "stream",
          "name": "stderr",
          "text": [
            "\r 67%|██████▋   | 2/3 [00:04<00:01,  1.99s/it]"
          ]
        },
        {
          "output_type": "stream",
          "name": "stdout",
          "text": [
            "Shape =  (69, 6912)\n"
          ]
        },
        {
          "output_type": "stream",
          "name": "stderr",
          "text": [
            "100%|██████████| 3/3 [00:05<00:00,  1.91s/it]"
          ]
        },
        {
          "output_type": "stream",
          "name": "stdout",
          "text": [
            "Shape =  (69, 6912)\n"
          ]
        },
        {
          "output_type": "stream",
          "name": "stderr",
          "text": [
            "\n"
          ]
        }
      ]
    },
    {
      "cell_type": "markdown",
      "source": [
        "###cylinder-bands"
      ],
      "metadata": {
        "id": "fvtBhowAqtP_"
      }
    },
    {
      "cell_type": "code",
      "source": [
        "if __name__=='__main__':\n",
        "  ip_data_path = f\"{ip_base_path}/cylinder-bands\"\n",
        "  op_data_path = f\"{op_base_path}/cylinder-bands\"\n",
        "  os.makedirs(op_data_path, exist_ok=True)\n",
        "  max_embd_size = 1024\n",
        "  embd_size = 768 #for gpt2\n",
        "  mapping_file = 'text-embedding-gpt.json'\n",
        "  file_names = [\"C_train\", \"C_test\", \"C_val\"]\n",
        "\n",
        "  df_meta = pd.read_csv(f'{ip_data_path}/cylinder-bands.csv')\n",
        "\n",
        "  dataset_description = \"The Cylinder Bands dataset contains data related to process delays (cylinder banding) in rotogravure printing, with 512 instances and 39 features, including categorical, integer, and real values.\"\n",
        "  task_description = \"Predict and classify process delays (cylinder banding) in rotogravure printing.\"\n",
        "\n",
        "\n",
        "  data = np.load(f'{ip_data_path}/C_train.npy', allow_pickle=True)\n",
        "  df = pd.DataFrame(data)\n",
        "\n",
        "  llm_model = get_model()\n",
        "  tokenizer = get_tokenizer()\n",
        "\n",
        "  text_dict = create_word_dict(df)\n",
        "  text_dict = create_embd(text_dict, llm_model, tokenizer, df_meta, dataset_description, task_description, max_embd_size)\n",
        "\n",
        "  save_embd_mappings(mapping_file, text_dict)\n",
        "\n",
        "  for file_name in tqdm(file_names):\n",
        "    data = np.load(f'{ip_data_path}/{file_name}.npy', allow_pickle=True)\n",
        "    df = pd.DataFrame(data)\n",
        "    create_and_save_embedded_data(df, f'{op_data_path}/{file_name}.npy', text_dict)\n",
        "\n",
        "  !cp -R text-embedding-gpt.json '{op_data_path}'"
      ],
      "metadata": {
        "colab": {
          "base_uri": "https://localhost:8080/"
        },
        "outputId": "341b1268-5c90-4af6-e433-a8246dcae71c",
        "id": "W9ZK_OYJqtQA"
      },
      "execution_count": null,
      "outputs": [
        {
          "output_type": "stream",
          "name": "stderr",
          "text": [
            " 33%|███▎      | 1/3 [00:03<00:06,  3.04s/it]"
          ]
        },
        {
          "output_type": "stream",
          "name": "stdout",
          "text": [
            "Shape =  (432, 10752)\n"
          ]
        },
        {
          "output_type": "stream",
          "name": "stderr",
          "text": [
            "\r 67%|██████▋   | 2/3 [00:04<00:02,  2.39s/it]"
          ]
        },
        {
          "output_type": "stream",
          "name": "stdout",
          "text": [
            "Shape =  (54, 10752)\n"
          ]
        },
        {
          "output_type": "stream",
          "name": "stderr",
          "text": [
            "100%|██████████| 3/3 [00:06<00:00,  2.21s/it]"
          ]
        },
        {
          "output_type": "stream",
          "name": "stdout",
          "text": [
            "Shape =  (54, 10752)\n"
          ]
        },
        {
          "output_type": "stream",
          "name": "stderr",
          "text": [
            "\n"
          ]
        }
      ]
    },
    {
      "cell_type": "markdown",
      "source": [
        "###dresses-sales"
      ],
      "metadata": {
        "id": "04gtcmZpqtnl"
      }
    },
    {
      "cell_type": "code",
      "source": [
        "if __name__=='__main__':\n",
        "  ip_data_path = f\"{ip_base_path}/dresses-sales\"\n",
        "  op_data_path = f\"{op_base_path}/dresses-sales\"\n",
        "  os.makedirs(op_data_path, exist_ok=True)\n",
        "  max_embd_size = 1024\n",
        "  embd_size = 768 #for gpt2\n",
        "  mapping_file = 'text-embedding-gpt.json'\n",
        "  file_names = [\"C_train\", \"C_test\", \"C_val\"]\n",
        "\n",
        "  df_meta = pd.read_csv(f'{ip_data_path}/dresses-sales.csv')\n",
        "\n",
        "  dataset_description = \"The Dresses_Attribute_Sales dataset contains attributes of dresses, such as style, price, rating, size, season, and others, to predict sales recommendations.\"\n",
        "  task_description = \"Predict dress recommendations based on the given attributes.\"\n",
        "\n",
        "\n",
        "  data = np.load(f'{ip_data_path}/C_train.npy', allow_pickle=True)\n",
        "  df = pd.DataFrame(data)\n",
        "\n",
        "  llm_model = get_model()\n",
        "  tokenizer = get_tokenizer()\n",
        "\n",
        "  text_dict = create_word_dict(df)\n",
        "  text_dict = create_embd(text_dict, llm_model, tokenizer, df_meta, dataset_description, task_description, max_embd_size)\n",
        "\n",
        "  save_embd_mappings(mapping_file, text_dict)\n",
        "\n",
        "  for file_name in tqdm(file_names):\n",
        "    data = np.load(f'{ip_data_path}/{file_name}.npy', allow_pickle=True)\n",
        "    df = pd.DataFrame(data)\n",
        "    create_and_save_embedded_data(df, f'{op_data_path}/{file_name}.npy', text_dict)\n",
        "\n",
        "  !cp -R text-embedding-gpt.json '{op_data_path}'"
      ],
      "metadata": {
        "colab": {
          "base_uri": "https://localhost:8080/"
        },
        "outputId": "be0f4bee-6a8f-4ed7-d30c-edd71ec6aac5",
        "id": "7XRDe1wSqtno"
      },
      "execution_count": null,
      "outputs": [
        {
          "output_type": "stream",
          "name": "stderr",
          "text": [
            " 33%|███▎      | 1/3 [00:03<00:06,  3.25s/it]"
          ]
        },
        {
          "output_type": "stream",
          "name": "stdout",
          "text": [
            "Shape =  (409, 8448)\n"
          ]
        },
        {
          "output_type": "stream",
          "name": "stderr",
          "text": [
            "\r 67%|██████▋   | 2/3 [00:05<00:02,  2.54s/it]"
          ]
        },
        {
          "output_type": "stream",
          "name": "stdout",
          "text": [
            "Shape =  (46, 8448)\n"
          ]
        },
        {
          "output_type": "stream",
          "name": "stderr",
          "text": [
            "100%|██████████| 3/3 [00:06<00:00,  2.23s/it]"
          ]
        },
        {
          "output_type": "stream",
          "name": "stdout",
          "text": [
            "Shape =  (45, 8448)\n"
          ]
        },
        {
          "output_type": "stream",
          "name": "stderr",
          "text": [
            "\n"
          ]
        }
      ]
    },
    {
      "cell_type": "markdown",
      "source": [
        "###nursery"
      ],
      "metadata": {
        "id": "TWZovDt_qt8e"
      }
    },
    {
      "cell_type": "code",
      "source": [
        "if __name__=='__main__':\n",
        "  ip_data_path = f\"{ip_base_path}/nursery\"\n",
        "  op_data_path = f\"{op_base_path}/nursery\"\n",
        "  os.makedirs(op_data_path, exist_ok=True)\n",
        "  max_embd_size = 1024\n",
        "  embd_size = 768 #for gpt2\n",
        "  mapping_file = 'text-embedding-gpt.json'\n",
        "  file_names = [\"C_train\", \"C_test\", \"C_val\"]\n",
        "\n",
        "  df_meta = pd.read_csv(f'{ip_data_path}/nursery.csv')\n",
        "\n",
        "  dataset_description = \"The Nursery dataset ranks applications for nursery schools, with attributes such as parents' occupation, child's nursery, family structure, financial standing, social conditions, and health conditions.\"\n",
        "  task_description = \"Predict the evaluation outcome of nursery school applications based on the given attributes.\"\n",
        "\n",
        "\n",
        "  data = np.load(f'{ip_data_path}/C_train.npy', allow_pickle=True)\n",
        "  df = pd.DataFrame(data)\n",
        "\n",
        "  llm_model = get_model()\n",
        "  tokenizer = get_tokenizer()\n",
        "\n",
        "  text_dict = create_word_dict(df)\n",
        "  text_dict = create_embd(text_dict, llm_model, tokenizer, df_meta, dataset_description, task_description, max_embd_size)\n",
        "\n",
        "  save_embd_mappings(mapping_file, text_dict)\n",
        "\n",
        "  for file_name in tqdm(file_names):\n",
        "    data = np.load(f'{ip_data_path}/{file_name}.npy', allow_pickle=True)\n",
        "    df = pd.DataFrame(data)\n",
        "    create_and_save_embedded_data(df, f'{op_data_path}/{file_name}.npy', text_dict)\n",
        "\n",
        "  !cp -R text-embedding-gpt.json '{op_data_path}'"
      ],
      "metadata": {
        "colab": {
          "base_uri": "https://localhost:8080/"
        },
        "outputId": "2bf69278-9397-4f6d-acaf-4028853a81ee",
        "id": "jPj9R_BZqt8f"
      },
      "execution_count": null,
      "outputs": [
        {
          "output_type": "stream",
          "name": "stderr",
          "text": [
            " 33%|███▎      | 1/3 [00:19<00:38, 19.16s/it]"
          ]
        },
        {
          "output_type": "stream",
          "name": "stdout",
          "text": [
            "Shape =  (10368, 6144)\n"
          ]
        },
        {
          "output_type": "stream",
          "name": "stderr",
          "text": [
            "\r 67%|██████▋   | 2/3 [00:24<00:10, 10.78s/it]"
          ]
        },
        {
          "output_type": "stream",
          "name": "stdout",
          "text": [
            "Shape =  (1296, 6144)\n"
          ]
        },
        {
          "output_type": "stream",
          "name": "stderr",
          "text": [
            "100%|██████████| 3/3 [00:27<00:00,  9.15s/it]"
          ]
        },
        {
          "output_type": "stream",
          "name": "stdout",
          "text": [
            "Shape =  (1296, 6144)\n"
          ]
        },
        {
          "output_type": "stream",
          "name": "stderr",
          "text": [
            "\n"
          ]
        }
      ]
    },
    {
      "cell_type": "markdown",
      "source": [
        "###titanic"
      ],
      "metadata": {
        "id": "kNfnNt3iquSj"
      }
    },
    {
      "cell_type": "code",
      "source": [
        "if __name__=='__main__':\n",
        "  ip_data_path = f\"{ip_base_path}/titanic\"\n",
        "  op_data_path = f\"{op_base_path}/titanic\"\n",
        "  os.makedirs(op_data_path, exist_ok=True)\n",
        "  max_embd_size = 1024\n",
        "  embd_size = 768 #for gpt2\n",
        "  mapping_file = 'text-embedding-gpt.json'\n",
        "  file_names = [\"C_train\", \"C_test\", \"C_val\"]\n",
        "\n",
        "  df_meta = pd.read_csv(f'{ip_data_path}/titanic.csv')\n",
        "\n",
        "  dataset_description = \"The Titanic dataset includes information on passengers' class, age, sex, survival status, and other attributes, excluding crew members. It is commonly used for logistic regression analysis.\"\n",
        "  task_description = \"Predict the survival status of passengers based on the given attributes.\"\n",
        "\n",
        "  data = np.load(f'{ip_data_path}/C_train.npy', allow_pickle=True)\n",
        "  df = pd.DataFrame(data)\n",
        "\n",
        "  llm_model = get_model()\n",
        "  tokenizer = get_tokenizer()\n",
        "\n",
        "  text_dict = create_word_dict(df)\n",
        "  text_dict = create_embd(text_dict, llm_model, tokenizer, df_meta, dataset_description, task_description, max_embd_size)\n",
        "\n",
        "  save_embd_mappings(mapping_file, text_dict)\n",
        "\n",
        "  for file_name in tqdm(file_names):\n",
        "    data = np.load(f'{ip_data_path}/{file_name}.npy', allow_pickle=True)\n",
        "    df = pd.DataFrame(data)\n",
        "    create_and_save_embedded_data(df, f'{op_data_path}/{file_name}.npy', text_dict)\n",
        "\n",
        "  !cp -R text-embedding-gpt.json '{op_data_path}'"
      ],
      "metadata": {
        "colab": {
          "base_uri": "https://localhost:8080/"
        },
        "outputId": "29e79c06-3486-4e1c-fa03-4104d5bdbc75",
        "id": "Cryq3eF7quSk"
      },
      "execution_count": null,
      "outputs": [
        {
          "output_type": "stream",
          "name": "stderr",
          "text": [
            " 33%|███▎      | 1/3 [00:01<00:02,  1.45s/it]"
          ]
        },
        {
          "output_type": "stream",
          "name": "stdout",
          "text": [
            "Shape =  (1049, 2304)\n"
          ]
        },
        {
          "output_type": "stream",
          "name": "stderr",
          "text": [
            "\r 67%|██████▋   | 2/3 [00:02<00:01,  1.23s/it]"
          ]
        },
        {
          "output_type": "stream",
          "name": "stdout",
          "text": [
            "Shape =  (130, 2304)\n"
          ]
        },
        {
          "output_type": "stream",
          "name": "stderr",
          "text": [
            "100%|██████████| 3/3 [00:04<00:00,  1.43s/it]"
          ]
        },
        {
          "output_type": "stream",
          "name": "stdout",
          "text": [
            "Shape =  (130, 2304)\n"
          ]
        },
        {
          "output_type": "stream",
          "name": "stderr",
          "text": [
            "\n"
          ]
        }
      ]
    }
  ]
}